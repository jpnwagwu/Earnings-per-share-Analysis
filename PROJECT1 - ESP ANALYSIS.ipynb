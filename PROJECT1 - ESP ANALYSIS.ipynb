{
 "cells": [
  {
   "cell_type": "markdown",
   "metadata": {},
   "source": [
    "# Earnings Per Share, Forecast Error and Forecast Dispersion\n",
    "\n",
    "\n",
    "\n",
    "- [Introduction](#intro)\n",
    "- [Part I - Data Extraction](#dataextraction)\n",
    "- [Part II - Analysis](#analysis)\n",
    "\n",
    "\n",
    "<a id='intro'></a>\n",
    "## Introduction\n",
    "\n",
    "Brief Data Collection and Analysis on Earnings per share Data of REITs versus Real Estate Companies\n",
    "\n",
    "\n",
    "<a id='dataextraction'></a>\n",
    "## Part I - Data Extraction\n"
   ]
  },
  {
   "cell_type": "code",
   "execution_count": 116,
   "metadata": {},
   "outputs": [],
   "source": [
    "#Importing Libraries for analysis\n",
    "import pandas as pd\n",
    "import numpy as np\n",
    "import matplotlib.pyplot as plt\n",
    "import seaborn as sns\n",
    "import plotly.express as px\n",
    "import plotly.graph_objects as go\n",
    "%matplotlib inline"
   ]
  },
  {
   "cell_type": "code",
   "execution_count": 117,
   "metadata": {},
   "outputs": [
    {
     "data": {
      "text/html": [
       "<div>\n",
       "<style scoped>\n",
       "    .dataframe tbody tr th:only-of-type {\n",
       "        vertical-align: middle;\n",
       "    }\n",
       "\n",
       "    .dataframe tbody tr th {\n",
       "        vertical-align: top;\n",
       "    }\n",
       "\n",
       "    .dataframe thead th {\n",
       "        text-align: right;\n",
       "    }\n",
       "</style>\n",
       "<table border=\"1\" class=\"dataframe\">\n",
       "  <thead>\n",
       "    <tr style=\"text-align: right;\">\n",
       "      <th></th>\n",
       "      <th>TICKER</th>\n",
       "      <th>CUSIP</th>\n",
       "      <th>OFTIC</th>\n",
       "      <th>CNAME</th>\n",
       "      <th>ACTDATS</th>\n",
       "      <th>ESTIMATOR</th>\n",
       "      <th>ANALYS</th>\n",
       "      <th>CURRFL</th>\n",
       "      <th>PDF</th>\n",
       "      <th>FPI</th>\n",
       "      <th>...</th>\n",
       "      <th>REVTIMS</th>\n",
       "      <th>ANNDATS</th>\n",
       "      <th>ANNTIMS</th>\n",
       "      <th>ACTUAL</th>\n",
       "      <th>ACTDATS_ACT</th>\n",
       "      <th>ACTTIMS_ACT</th>\n",
       "      <th>ANNDATS_ACT</th>\n",
       "      <th>ANNTIMS_ACT</th>\n",
       "      <th>CURR_ACT</th>\n",
       "      <th>report_curr</th>\n",
       "    </tr>\n",
       "  </thead>\n",
       "  <tbody>\n",
       "    <tr>\n",
       "      <th>0</th>\n",
       "      <td>ACP</td>\n",
       "      <td>45110010</td>\n",
       "      <td>IEP</td>\n",
       "      <td>ICAHN ENTERPRISE</td>\n",
       "      <td>20130410</td>\n",
       "      <td>930</td>\n",
       "      <td>110608</td>\n",
       "      <td>NaN</td>\n",
       "      <td>D</td>\n",
       "      <td>6</td>\n",
       "      <td>...</td>\n",
       "      <td>6:39:59</td>\n",
       "      <td>20130409</td>\n",
       "      <td>23:17:00</td>\n",
       "      <td>2.5260</td>\n",
       "      <td>20130503.0</td>\n",
       "      <td>8:11:52</td>\n",
       "      <td>20130503.0</td>\n",
       "      <td>8:00:00</td>\n",
       "      <td>USD</td>\n",
       "      <td>USD</td>\n",
       "    </tr>\n",
       "    <tr>\n",
       "      <th>1</th>\n",
       "      <td>ACP</td>\n",
       "      <td>45110010</td>\n",
       "      <td>IEP</td>\n",
       "      <td>ICAHN ENTERPRISE</td>\n",
       "      <td>20130410</td>\n",
       "      <td>930</td>\n",
       "      <td>110608</td>\n",
       "      <td>NaN</td>\n",
       "      <td>D</td>\n",
       "      <td>7</td>\n",
       "      <td>...</td>\n",
       "      <td>6:39:59</td>\n",
       "      <td>20130409</td>\n",
       "      <td>23:17:00</td>\n",
       "      <td>0.5328</td>\n",
       "      <td>20130807.0</td>\n",
       "      <td>8:08:17</td>\n",
       "      <td>20130807.0</td>\n",
       "      <td>8:00:00</td>\n",
       "      <td>USD</td>\n",
       "      <td>USD</td>\n",
       "    </tr>\n",
       "    <tr>\n",
       "      <th>2</th>\n",
       "      <td>ACP</td>\n",
       "      <td>45110010</td>\n",
       "      <td>IEP</td>\n",
       "      <td>ICAHN ENTERPRISE</td>\n",
       "      <td>20130410</td>\n",
       "      <td>930</td>\n",
       "      <td>110608</td>\n",
       "      <td>NaN</td>\n",
       "      <td>D</td>\n",
       "      <td>8</td>\n",
       "      <td>...</td>\n",
       "      <td>6:39:59</td>\n",
       "      <td>20130409</td>\n",
       "      <td>23:17:00</td>\n",
       "      <td>NaN</td>\n",
       "      <td>20131104.0</td>\n",
       "      <td>8:05:48</td>\n",
       "      <td>20131104.0</td>\n",
       "      <td>8:00:00</td>\n",
       "      <td>USD</td>\n",
       "      <td>USD</td>\n",
       "    </tr>\n",
       "    <tr>\n",
       "      <th>3</th>\n",
       "      <td>ACP</td>\n",
       "      <td>45110010</td>\n",
       "      <td>IEP</td>\n",
       "      <td>ICAHN ENTERPRISE</td>\n",
       "      <td>20130410</td>\n",
       "      <td>930</td>\n",
       "      <td>110608</td>\n",
       "      <td>NaN</td>\n",
       "      <td>D</td>\n",
       "      <td>1</td>\n",
       "      <td>...</td>\n",
       "      <td>6:39:59</td>\n",
       "      <td>20130409</td>\n",
       "      <td>23:17:00</td>\n",
       "      <td>NaN</td>\n",
       "      <td>20140303.0</td>\n",
       "      <td>10:25:48</td>\n",
       "      <td>20140303.0</td>\n",
       "      <td>8:30:00</td>\n",
       "      <td>USD</td>\n",
       "      <td>USD</td>\n",
       "    </tr>\n",
       "    <tr>\n",
       "      <th>4</th>\n",
       "      <td>ACP</td>\n",
       "      <td>45110010</td>\n",
       "      <td>IEP</td>\n",
       "      <td>ICAHN ENTERPRISE</td>\n",
       "      <td>20130410</td>\n",
       "      <td>930</td>\n",
       "      <td>110608</td>\n",
       "      <td>NaN</td>\n",
       "      <td>D</td>\n",
       "      <td>9</td>\n",
       "      <td>...</td>\n",
       "      <td>6:39:59</td>\n",
       "      <td>20130409</td>\n",
       "      <td>23:17:00</td>\n",
       "      <td>NaN</td>\n",
       "      <td>20140303.0</td>\n",
       "      <td>10:25:47</td>\n",
       "      <td>20140303.0</td>\n",
       "      <td>8:30:00</td>\n",
       "      <td>USD</td>\n",
       "      <td>USD</td>\n",
       "    </tr>\n",
       "  </tbody>\n",
       "</table>\n",
       "<p>5 rows × 27 columns</p>\n",
       "</div>"
      ],
      "text/plain": [
       "  TICKER     CUSIP OFTIC             CNAME   ACTDATS  ESTIMATOR  ANALYS  \\\n",
       "0    ACP  45110010   IEP  ICAHN ENTERPRISE  20130410        930  110608   \n",
       "1    ACP  45110010   IEP  ICAHN ENTERPRISE  20130410        930  110608   \n",
       "2    ACP  45110010   IEP  ICAHN ENTERPRISE  20130410        930  110608   \n",
       "3    ACP  45110010   IEP  ICAHN ENTERPRISE  20130410        930  110608   \n",
       "4    ACP  45110010   IEP  ICAHN ENTERPRISE  20130410        930  110608   \n",
       "\n",
       "  CURRFL PDF FPI  ...  REVTIMS   ANNDATS   ANNTIMS  ACTUAL  ACTDATS_ACT  \\\n",
       "0    NaN   D   6  ...  6:39:59  20130409  23:17:00  2.5260   20130503.0   \n",
       "1    NaN   D   7  ...  6:39:59  20130409  23:17:00  0.5328   20130807.0   \n",
       "2    NaN   D   8  ...  6:39:59  20130409  23:17:00     NaN   20131104.0   \n",
       "3    NaN   D   1  ...  6:39:59  20130409  23:17:00     NaN   20140303.0   \n",
       "4    NaN   D   9  ...  6:39:59  20130409  23:17:00     NaN   20140303.0   \n",
       "\n",
       "  ACTTIMS_ACT  ANNDATS_ACT ANNTIMS_ACT  CURR_ACT report_curr  \n",
       "0     8:11:52   20130503.0     8:00:00       USD         USD  \n",
       "1     8:08:17   20130807.0     8:00:00       USD         USD  \n",
       "2     8:05:48   20131104.0     8:00:00       USD         USD  \n",
       "3    10:25:48   20140303.0     8:30:00       USD         USD  \n",
       "4    10:25:47   20140303.0     8:30:00       USD         USD  \n",
       "\n",
       "[5 rows x 27 columns]"
      ]
     },
     "execution_count": 117,
     "metadata": {},
     "output_type": "execute_result"
    }
   ],
   "source": [
    "#Reading and displaying data\n",
    "df = pd.read_csv('epsdata.csv')\n",
    "df.head()"
   ]
  },
  {
   "cell_type": "code",
   "execution_count": 118,
   "metadata": {},
   "outputs": [
    {
     "name": "stdout",
     "output_type": "stream",
     "text": [
      "<class 'pandas.core.frame.DataFrame'>\n",
      "RangeIndex: 92229 entries, 0 to 92228\n",
      "Data columns (total 27 columns):\n",
      " #   Column       Non-Null Count  Dtype  \n",
      "---  ------       --------------  -----  \n",
      " 0   TICKER       92229 non-null  object \n",
      " 1   CUSIP        91997 non-null  object \n",
      " 2   OFTIC        90893 non-null  object \n",
      " 3   CNAME        91997 non-null  object \n",
      " 4   ACTDATS      92229 non-null  int64  \n",
      " 5   ESTIMATOR    92229 non-null  int64  \n",
      " 6   ANALYS       92229 non-null  int64  \n",
      " 7   CURRFL       2719 non-null   object \n",
      " 8   PDF          92229 non-null  object \n",
      " 9   FPI          92229 non-null  object \n",
      " 10  MEASURE      92229 non-null  object \n",
      " 11  VALUE        92229 non-null  float64\n",
      " 12  CURR         63959 non-null  object \n",
      " 13  USFIRM       92229 non-null  int64  \n",
      " 14  FPEDATS      89253 non-null  float64\n",
      " 15  ACTTIMS      92229 non-null  object \n",
      " 16  REVDATS      92229 non-null  int64  \n",
      " 17  REVTIMS      92229 non-null  object \n",
      " 18  ANNDATS      92229 non-null  int64  \n",
      " 19  ANNTIMS      92229 non-null  object \n",
      " 20  ACTUAL       76113 non-null  float64\n",
      " 21  ACTDATS_ACT  81378 non-null  float64\n",
      " 22  ACTTIMS_ACT  81378 non-null  object \n",
      " 23  ANNDATS_ACT  81378 non-null  float64\n",
      " 24  ANNTIMS_ACT  81378 non-null  object \n",
      " 25  CURR_ACT     81378 non-null  object \n",
      " 26  report_curr  92229 non-null  object \n",
      "dtypes: float64(5), int64(6), object(16)\n",
      "memory usage: 19.0+ MB\n"
     ]
    }
   ],
   "source": [
    "df.info()"
   ]
  },
  {
   "cell_type": "code",
   "execution_count": 119,
   "metadata": {},
   "outputs": [
    {
     "data": {
      "text/plain": [
       "TICKER             0\n",
       "CUSIP            232\n",
       "OFTIC           1336\n",
       "CNAME            232\n",
       "ACTDATS            0\n",
       "ESTIMATOR          0\n",
       "ANALYS             0\n",
       "CURRFL         89510\n",
       "PDF                0\n",
       "FPI                0\n",
       "MEASURE            0\n",
       "VALUE              0\n",
       "CURR           28270\n",
       "USFIRM             0\n",
       "FPEDATS         2976\n",
       "ACTTIMS            0\n",
       "REVDATS            0\n",
       "REVTIMS            0\n",
       "ANNDATS            0\n",
       "ANNTIMS            0\n",
       "ACTUAL         16116\n",
       "ACTDATS_ACT    10851\n",
       "ACTTIMS_ACT    10851\n",
       "ANNDATS_ACT    10851\n",
       "ANNTIMS_ACT    10851\n",
       "CURR_ACT       10851\n",
       "report_curr        0\n",
       "dtype: int64"
      ]
     },
     "execution_count": 119,
     "metadata": {},
     "output_type": "execute_result"
    }
   ],
   "source": [
    "df.isna().sum()"
   ]
  },
  {
   "cell_type": "code",
   "execution_count": 120,
   "metadata": {},
   "outputs": [
    {
     "data": {
      "text/plain": [
       "TICKER             0\n",
       "CUSIP            181\n",
       "OFTIC           1176\n",
       "CNAME            181\n",
       "ACTDATS            0\n",
       "ESTIMATOR          0\n",
       "ANALYS             0\n",
       "CURRFL         75869\n",
       "PDF                0\n",
       "FPI                0\n",
       "MEASURE            0\n",
       "VALUE              0\n",
       "CURR           25463\n",
       "USFIRM             0\n",
       "FPEDATS            0\n",
       "ACTTIMS            0\n",
       "REVDATS            0\n",
       "REVTIMS            0\n",
       "ANNDATS            0\n",
       "ANNTIMS            0\n",
       "ACTUAL             0\n",
       "ACTDATS_ACT        0\n",
       "ACTTIMS_ACT        0\n",
       "ANNDATS_ACT        0\n",
       "ANNTIMS_ACT        0\n",
       "CURR_ACT           0\n",
       "report_curr        0\n",
       "dtype: int64"
      ]
     },
     "execution_count": 120,
     "metadata": {},
     "output_type": "execute_result"
    }
   ],
   "source": [
    "#drop only actual column.\n",
    "df.dropna(subset=['ACTUAL'],axis=0,inplace=True)\n",
    "df.isna().sum()"
   ]
  },
  {
   "cell_type": "code",
   "execution_count": 121,
   "metadata": {},
   "outputs": [
    {
     "name": "stdout",
     "output_type": "stream",
     "text": [
      "<class 'pandas.core.frame.DataFrame'>\n",
      "Int64Index: 76113 entries, 0 to 92221\n",
      "Data columns (total 27 columns):\n",
      " #   Column       Non-Null Count  Dtype  \n",
      "---  ------       --------------  -----  \n",
      " 0   TICKER       76113 non-null  object \n",
      " 1   CUSIP        75932 non-null  object \n",
      " 2   OFTIC        74937 non-null  object \n",
      " 3   CNAME        75932 non-null  object \n",
      " 4   ACTDATS      76113 non-null  int64  \n",
      " 5   ESTIMATOR    76113 non-null  int64  \n",
      " 6   ANALYS       76113 non-null  int64  \n",
      " 7   CURRFL       244 non-null    object \n",
      " 8   PDF          76113 non-null  object \n",
      " 9   FPI          76113 non-null  object \n",
      " 10  MEASURE      76113 non-null  object \n",
      " 11  VALUE        76113 non-null  float64\n",
      " 12  CURR         50650 non-null  object \n",
      " 13  USFIRM       76113 non-null  int64  \n",
      " 14  FPEDATS      76113 non-null  float64\n",
      " 15  ACTTIMS      76113 non-null  object \n",
      " 16  REVDATS      76113 non-null  int64  \n",
      " 17  REVTIMS      76113 non-null  object \n",
      " 18  ANNDATS      76113 non-null  int64  \n",
      " 19  ANNTIMS      76113 non-null  object \n",
      " 20  ACTUAL       76113 non-null  float64\n",
      " 21  ACTDATS_ACT  76113 non-null  float64\n",
      " 22  ACTTIMS_ACT  76113 non-null  object \n",
      " 23  ANNDATS_ACT  76113 non-null  float64\n",
      " 24  ANNTIMS_ACT  76113 non-null  object \n",
      " 25  CURR_ACT     76113 non-null  object \n",
      " 26  report_curr  76113 non-null  object \n",
      "dtypes: float64(5), int64(6), object(16)\n",
      "memory usage: 16.3+ MB\n"
     ]
    }
   ],
   "source": [
    "df.info()"
   ]
  },
  {
   "cell_type": "code",
   "execution_count": 122,
   "metadata": {},
   "outputs": [
    {
     "data": {
      "text/plain": [
       "225"
      ]
     },
     "execution_count": 122,
     "metadata": {},
     "output_type": "execute_result"
    }
   ],
   "source": [
    "#Number of Unique IBES Tickers/Companies in the REITs and REAL ESTATE industry\n",
    "df.TICKER.unique().shape[0]"
   ]
  },
  {
   "cell_type": "code",
   "execution_count": 123,
   "metadata": {
    "scrolled": true
   },
   "outputs": [
    {
     "data": {
      "text/html": [
       "<div>\n",
       "<style scoped>\n",
       "    .dataframe tbody tr th:only-of-type {\n",
       "        vertical-align: middle;\n",
       "    }\n",
       "\n",
       "    .dataframe tbody tr th {\n",
       "        vertical-align: top;\n",
       "    }\n",
       "\n",
       "    .dataframe thead th {\n",
       "        text-align: right;\n",
       "    }\n",
       "</style>\n",
       "<table border=\"1\" class=\"dataframe\">\n",
       "  <thead>\n",
       "    <tr style=\"text-align: right;\">\n",
       "      <th></th>\n",
       "      <th>CUSIP FULL</th>\n",
       "      <th>ENTITY NAME</th>\n",
       "      <th>FIRST DATE</th>\n",
       "      <th>IBES TICKER</th>\n",
       "      <th>INCORPORATION COUNTRY</th>\n",
       "      <th>TICKER</th>\n",
       "      <th>CTYPE</th>\n",
       "    </tr>\n",
       "  </thead>\n",
       "  <tbody>\n",
       "    <tr>\n",
       "      <th>0</th>\n",
       "      <td>1945610</td>\n",
       "      <td>ALLIED PROPERTIES REIT</td>\n",
       "      <td>9/18/2003</td>\n",
       "      <td>APU1</td>\n",
       "      <td>NC</td>\n",
       "      <td>AP.UN</td>\n",
       "      <td>REIT</td>\n",
       "    </tr>\n",
       "    <tr>\n",
       "      <th>1</th>\n",
       "      <td>1945610</td>\n",
       "      <td>ALLIED PROPERTIES REIT</td>\n",
       "      <td>3/18/2004</td>\n",
       "      <td>APU1</td>\n",
       "      <td>NC</td>\n",
       "      <td>AP</td>\n",
       "      <td>REIT</td>\n",
       "    </tr>\n",
       "    <tr>\n",
       "      <th>2</th>\n",
       "      <td>2679120</td>\n",
       "      <td>AMERICAN INDUSTRIAL PPTY REIT</td>\n",
       "      <td>4/16/1998</td>\n",
       "      <td>IND</td>\n",
       "      <td>NaN</td>\n",
       "      <td>IND</td>\n",
       "      <td>REIT</td>\n",
       "    </tr>\n",
       "    <tr>\n",
       "      <th>3</th>\n",
       "      <td>3215810</td>\n",
       "      <td>AMREIT</td>\n",
       "      <td>4/15/2004</td>\n",
       "      <td>AM4A</td>\n",
       "      <td>NaN</td>\n",
       "      <td>AMY</td>\n",
       "      <td>REIT</td>\n",
       "    </tr>\n",
       "    <tr>\n",
       "      <th>4</th>\n",
       "      <td>3215810</td>\n",
       "      <td>AMREIT</td>\n",
       "      <td>5/20/2004</td>\n",
       "      <td>AM4A</td>\n",
       "      <td>NaN</td>\n",
       "      <td>AMY</td>\n",
       "      <td>REIT</td>\n",
       "    </tr>\n",
       "  </tbody>\n",
       "</table>\n",
       "</div>"
      ],
      "text/plain": [
       "  CUSIP FULL                    ENTITY NAME FIRST DATE IBES TICKER  \\\n",
       "0    1945610         ALLIED PROPERTIES REIT  9/18/2003        APU1   \n",
       "1    1945610         ALLIED PROPERTIES REIT  3/18/2004        APU1   \n",
       "2    2679120  AMERICAN INDUSTRIAL PPTY REIT  4/16/1998         IND   \n",
       "3    3215810                         AMREIT  4/15/2004        AM4A   \n",
       "4    3215810                         AMREIT  5/20/2004        AM4A   \n",
       "\n",
       "  INCORPORATION COUNTRY TICKER CTYPE  \n",
       "0                    NC  AP.UN  REIT  \n",
       "1                    NC     AP  REIT  \n",
       "2                   NaN    IND  REIT  \n",
       "3                   NaN    AMY  REIT  \n",
       "4                   NaN    AMY  REIT  "
      ]
     },
     "execution_count": 123,
     "metadata": {},
     "output_type": "execute_result"
    }
   ],
   "source": [
    "df_REIT = pd.read_csv('REITs.csv')\n",
    "df_REIT.head()\n",
    "#df_REIT.info()"
   ]
  },
  {
   "cell_type": "code",
   "execution_count": 124,
   "metadata": {},
   "outputs": [
    {
     "data": {
      "text/html": [
       "<div>\n",
       "<style scoped>\n",
       "    .dataframe tbody tr th:only-of-type {\n",
       "        vertical-align: middle;\n",
       "    }\n",
       "\n",
       "    .dataframe tbody tr th {\n",
       "        vertical-align: top;\n",
       "    }\n",
       "\n",
       "    .dataframe thead th {\n",
       "        text-align: right;\n",
       "    }\n",
       "</style>\n",
       "<table border=\"1\" class=\"dataframe\">\n",
       "  <thead>\n",
       "    <tr style=\"text-align: right;\">\n",
       "      <th></th>\n",
       "      <th>CUSIP</th>\n",
       "      <th>CNAME</th>\n",
       "      <th>FIRST DATE</th>\n",
       "      <th>TICKER</th>\n",
       "      <th>INCORPORATION COUNTRY</th>\n",
       "      <th>OFFICIAL TICKER</th>\n",
       "      <th>CTYPE</th>\n",
       "    </tr>\n",
       "  </thead>\n",
       "  <tbody>\n",
       "    <tr>\n",
       "      <th>0</th>\n",
       "      <td>1945610</td>\n",
       "      <td>ALLIED PROPERTIES REIT</td>\n",
       "      <td>9/18/2003</td>\n",
       "      <td>APU1</td>\n",
       "      <td>NC</td>\n",
       "      <td>AP.UN</td>\n",
       "      <td>REIT</td>\n",
       "    </tr>\n",
       "    <tr>\n",
       "      <th>1</th>\n",
       "      <td>1945610</td>\n",
       "      <td>ALLIED PROPERTIES REIT</td>\n",
       "      <td>3/18/2004</td>\n",
       "      <td>APU1</td>\n",
       "      <td>NC</td>\n",
       "      <td>AP</td>\n",
       "      <td>REIT</td>\n",
       "    </tr>\n",
       "    <tr>\n",
       "      <th>2</th>\n",
       "      <td>2679120</td>\n",
       "      <td>AMERICAN INDUSTRIAL PPTY REIT</td>\n",
       "      <td>4/16/1998</td>\n",
       "      <td>IND</td>\n",
       "      <td>NaN</td>\n",
       "      <td>IND</td>\n",
       "      <td>REIT</td>\n",
       "    </tr>\n",
       "    <tr>\n",
       "      <th>3</th>\n",
       "      <td>3215810</td>\n",
       "      <td>AMREIT</td>\n",
       "      <td>4/15/2004</td>\n",
       "      <td>AM4A</td>\n",
       "      <td>NaN</td>\n",
       "      <td>AMY</td>\n",
       "      <td>REIT</td>\n",
       "    </tr>\n",
       "    <tr>\n",
       "      <th>4</th>\n",
       "      <td>3215810</td>\n",
       "      <td>AMREIT</td>\n",
       "      <td>5/20/2004</td>\n",
       "      <td>AM4A</td>\n",
       "      <td>NaN</td>\n",
       "      <td>AMY</td>\n",
       "      <td>REIT</td>\n",
       "    </tr>\n",
       "  </tbody>\n",
       "</table>\n",
       "</div>"
      ],
      "text/plain": [
       "     CUSIP                          CNAME FIRST DATE TICKER  \\\n",
       "0  1945610         ALLIED PROPERTIES REIT  9/18/2003   APU1   \n",
       "1  1945610         ALLIED PROPERTIES REIT  3/18/2004   APU1   \n",
       "2  2679120  AMERICAN INDUSTRIAL PPTY REIT  4/16/1998    IND   \n",
       "3  3215810                         AMREIT  4/15/2004   AM4A   \n",
       "4  3215810                         AMREIT  5/20/2004   AM4A   \n",
       "\n",
       "  INCORPORATION COUNTRY OFFICIAL TICKER CTYPE  \n",
       "0                    NC           AP.UN  REIT  \n",
       "1                    NC              AP  REIT  \n",
       "2                   NaN             IND  REIT  \n",
       "3                   NaN             AMY  REIT  \n",
       "4                   NaN             AMY  REIT  "
      ]
     },
     "execution_count": 124,
     "metadata": {},
     "output_type": "execute_result"
    }
   ],
   "source": [
    "df_REIT.rename(columns={'CUSIP FULL': 'CUSIP', 'ENTITY NAME': 'CNAME', 'TICKER': 'OFFICIAL TICKER', 'IBES TICKER': 'TICKER'}, inplace=True)\n",
    "df_REIT.head()"
   ]
  },
  {
   "cell_type": "code",
   "execution_count": 125,
   "metadata": {},
   "outputs": [
    {
     "name": "stdout",
     "output_type": "stream",
     "text": [
      "<class 'pandas.core.frame.DataFrame'>\n",
      "RangeIndex: 209 entries, 0 to 208\n",
      "Data columns (total 7 columns):\n",
      " #   Column                 Non-Null Count  Dtype \n",
      "---  ------                 --------------  ----- \n",
      " 0   CUSIP                  209 non-null    object\n",
      " 1   CNAME                  209 non-null    object\n",
      " 2   FIRST DATE             209 non-null    object\n",
      " 3   TICKER                 209 non-null    object\n",
      " 4   INCORPORATION COUNTRY  148 non-null    object\n",
      " 5   OFFICIAL TICKER        206 non-null    object\n",
      " 6   CTYPE                  164 non-null    object\n",
      "dtypes: object(7)\n",
      "memory usage: 11.6+ KB\n"
     ]
    }
   ],
   "source": [
    "df_REIT.info()"
   ]
  },
  {
   "cell_type": "code",
   "execution_count": 126,
   "metadata": {},
   "outputs": [],
   "source": [
    "df_REIT.CTYPE.fillna('REIT', inplace=True)"
   ]
  },
  {
   "cell_type": "code",
   "execution_count": 127,
   "metadata": {},
   "outputs": [
    {
     "data": {
      "text/plain": [
       "CUSIP                     0\n",
       "CNAME                     0\n",
       "FIRST DATE                0\n",
       "TICKER                    0\n",
       "INCORPORATION COUNTRY    61\n",
       "OFFICIAL TICKER           3\n",
       "CTYPE                     0\n",
       "dtype: int64"
      ]
     },
     "execution_count": 127,
     "metadata": {},
     "output_type": "execute_result"
    }
   ],
   "source": [
    "df_REIT.isna().sum()"
   ]
  },
  {
   "cell_type": "code",
   "execution_count": 128,
   "metadata": {},
   "outputs": [
    {
     "data": {
      "text/html": [
       "<div>\n",
       "<style scoped>\n",
       "    .dataframe tbody tr th:only-of-type {\n",
       "        vertical-align: middle;\n",
       "    }\n",
       "\n",
       "    .dataframe tbody tr th {\n",
       "        vertical-align: top;\n",
       "    }\n",
       "\n",
       "    .dataframe thead th {\n",
       "        text-align: right;\n",
       "    }\n",
       "</style>\n",
       "<table border=\"1\" class=\"dataframe\">\n",
       "  <thead>\n",
       "    <tr style=\"text-align: right;\">\n",
       "      <th></th>\n",
       "      <th>CUSIP FULL</th>\n",
       "      <th>ENTITY NAME</th>\n",
       "      <th>FIRST DATE</th>\n",
       "      <th>IBES TICKER</th>\n",
       "      <th>INCORPORATION COUNTRY</th>\n",
       "      <th>TICKER</th>\n",
       "      <th>CTYPE</th>\n",
       "    </tr>\n",
       "  </thead>\n",
       "  <tbody>\n",
       "    <tr>\n",
       "      <th>0</th>\n",
       "      <td>428910</td>\n",
       "      <td>ACANTHUS REAL ESTATE CORP</td>\n",
       "      <td>8/20/1998</td>\n",
       "      <td>ACR2</td>\n",
       "      <td>NC</td>\n",
       "      <td>ACR</td>\n",
       "      <td>REAL ESTATE</td>\n",
       "    </tr>\n",
       "    <tr>\n",
       "      <th>1</th>\n",
       "      <td>428910</td>\n",
       "      <td>ACANTHUS REAL ESTATE CORP</td>\n",
       "      <td>2/18/1999</td>\n",
       "      <td>ACR2</td>\n",
       "      <td>NC</td>\n",
       "      <td>ACR</td>\n",
       "      <td>REAL ESTATE</td>\n",
       "    </tr>\n",
       "    <tr>\n",
       "      <th>2</th>\n",
       "      <td>428910</td>\n",
       "      <td>ACANTHUS REAL ESTATE CORP</td>\n",
       "      <td>5/18/2000</td>\n",
       "      <td>ACR2</td>\n",
       "      <td>NC</td>\n",
       "      <td>ACR</td>\n",
       "      <td>REAL ESTATE</td>\n",
       "    </tr>\n",
       "    <tr>\n",
       "      <th>3</th>\n",
       "      <td>00844Y10</td>\n",
       "      <td>AGELLAN COMMERCIAL REAL ESTATE I</td>\n",
       "      <td>4/18/2013</td>\n",
       "      <td>RCA1</td>\n",
       "      <td>NC</td>\n",
       "      <td>ACR.UN</td>\n",
       "      <td>REAL ESTATE</td>\n",
       "    </tr>\n",
       "    <tr>\n",
       "      <th>4</th>\n",
       "      <td>00844Y10</td>\n",
       "      <td>AGELLAN COMMERCIAL REAL ESTATE I</td>\n",
       "      <td>6/20/2013</td>\n",
       "      <td>RCA1</td>\n",
       "      <td>NC</td>\n",
       "      <td>ACR.UN</td>\n",
       "      <td>REAL ESTATE</td>\n",
       "    </tr>\n",
       "  </tbody>\n",
       "</table>\n",
       "</div>"
      ],
      "text/plain": [
       "  CUSIP FULL                       ENTITY NAME FIRST DATE IBES TICKER  \\\n",
       "0     428910         ACANTHUS REAL ESTATE CORP  8/20/1998        ACR2   \n",
       "1     428910         ACANTHUS REAL ESTATE CORP  2/18/1999        ACR2   \n",
       "2     428910         ACANTHUS REAL ESTATE CORP  5/18/2000        ACR2   \n",
       "3   00844Y10  AGELLAN COMMERCIAL REAL ESTATE I  4/18/2013        RCA1   \n",
       "4   00844Y10  AGELLAN COMMERCIAL REAL ESTATE I  6/20/2013        RCA1   \n",
       "\n",
       "  INCORPORATION COUNTRY  TICKER        CTYPE  \n",
       "0                    NC     ACR  REAL ESTATE  \n",
       "1                    NC     ACR  REAL ESTATE  \n",
       "2                    NC     ACR  REAL ESTATE  \n",
       "3                    NC  ACR.UN  REAL ESTATE  \n",
       "4                    NC  ACR.UN  REAL ESTATE  "
      ]
     },
     "execution_count": 128,
     "metadata": {},
     "output_type": "execute_result"
    }
   ],
   "source": [
    "df_Realestate = pd.read_csv('Real Estate Companies.csv')\n",
    "df_Realestate.head()"
   ]
  },
  {
   "cell_type": "code",
   "execution_count": 129,
   "metadata": {},
   "outputs": [
    {
     "data": {
      "text/html": [
       "<div>\n",
       "<style scoped>\n",
       "    .dataframe tbody tr th:only-of-type {\n",
       "        vertical-align: middle;\n",
       "    }\n",
       "\n",
       "    .dataframe tbody tr th {\n",
       "        vertical-align: top;\n",
       "    }\n",
       "\n",
       "    .dataframe thead th {\n",
       "        text-align: right;\n",
       "    }\n",
       "</style>\n",
       "<table border=\"1\" class=\"dataframe\">\n",
       "  <thead>\n",
       "    <tr style=\"text-align: right;\">\n",
       "      <th></th>\n",
       "      <th>CUSIP</th>\n",
       "      <th>CNAME</th>\n",
       "      <th>FIRST DATE</th>\n",
       "      <th>TICKER</th>\n",
       "      <th>INCORPORATION COUNTRY</th>\n",
       "      <th>OFFICIAL TICKER</th>\n",
       "      <th>CTYPE</th>\n",
       "    </tr>\n",
       "  </thead>\n",
       "  <tbody>\n",
       "    <tr>\n",
       "      <th>0</th>\n",
       "      <td>428910</td>\n",
       "      <td>ACANTHUS REAL ESTATE CORP</td>\n",
       "      <td>8/20/1998</td>\n",
       "      <td>ACR2</td>\n",
       "      <td>NC</td>\n",
       "      <td>ACR</td>\n",
       "      <td>REAL ESTATE</td>\n",
       "    </tr>\n",
       "    <tr>\n",
       "      <th>1</th>\n",
       "      <td>428910</td>\n",
       "      <td>ACANTHUS REAL ESTATE CORP</td>\n",
       "      <td>2/18/1999</td>\n",
       "      <td>ACR2</td>\n",
       "      <td>NC</td>\n",
       "      <td>ACR</td>\n",
       "      <td>REAL ESTATE</td>\n",
       "    </tr>\n",
       "    <tr>\n",
       "      <th>2</th>\n",
       "      <td>428910</td>\n",
       "      <td>ACANTHUS REAL ESTATE CORP</td>\n",
       "      <td>5/18/2000</td>\n",
       "      <td>ACR2</td>\n",
       "      <td>NC</td>\n",
       "      <td>ACR</td>\n",
       "      <td>REAL ESTATE</td>\n",
       "    </tr>\n",
       "    <tr>\n",
       "      <th>3</th>\n",
       "      <td>00844Y10</td>\n",
       "      <td>AGELLAN COMMERCIAL REAL ESTATE I</td>\n",
       "      <td>4/18/2013</td>\n",
       "      <td>RCA1</td>\n",
       "      <td>NC</td>\n",
       "      <td>ACR.UN</td>\n",
       "      <td>REAL ESTATE</td>\n",
       "    </tr>\n",
       "    <tr>\n",
       "      <th>4</th>\n",
       "      <td>00844Y10</td>\n",
       "      <td>AGELLAN COMMERCIAL REAL ESTATE I</td>\n",
       "      <td>6/20/2013</td>\n",
       "      <td>RCA1</td>\n",
       "      <td>NC</td>\n",
       "      <td>ACR.UN</td>\n",
       "      <td>REAL ESTATE</td>\n",
       "    </tr>\n",
       "  </tbody>\n",
       "</table>\n",
       "</div>"
      ],
      "text/plain": [
       "      CUSIP                             CNAME FIRST DATE TICKER  \\\n",
       "0    428910         ACANTHUS REAL ESTATE CORP  8/20/1998   ACR2   \n",
       "1    428910         ACANTHUS REAL ESTATE CORP  2/18/1999   ACR2   \n",
       "2    428910         ACANTHUS REAL ESTATE CORP  5/18/2000   ACR2   \n",
       "3  00844Y10  AGELLAN COMMERCIAL REAL ESTATE I  4/18/2013   RCA1   \n",
       "4  00844Y10  AGELLAN COMMERCIAL REAL ESTATE I  6/20/2013   RCA1   \n",
       "\n",
       "  INCORPORATION COUNTRY OFFICIAL TICKER        CTYPE  \n",
       "0                    NC             ACR  REAL ESTATE  \n",
       "1                    NC             ACR  REAL ESTATE  \n",
       "2                    NC             ACR  REAL ESTATE  \n",
       "3                    NC          ACR.UN  REAL ESTATE  \n",
       "4                    NC          ACR.UN  REAL ESTATE  "
      ]
     },
     "execution_count": 129,
     "metadata": {},
     "output_type": "execute_result"
    }
   ],
   "source": [
    "df_Realestate.rename(columns={'CUSIP FULL': 'CUSIP', 'ENTITY NAME': 'CNAME', 'TICKER': 'OFFICIAL TICKER', 'IBES TICKER': 'TICKER'}, inplace=True)\n",
    "df_Realestate.head()"
   ]
  },
  {
   "cell_type": "code",
   "execution_count": 130,
   "metadata": {},
   "outputs": [
    {
     "name": "stdout",
     "output_type": "stream",
     "text": [
      "<class 'pandas.core.frame.DataFrame'>\n",
      "RangeIndex: 564 entries, 0 to 563\n",
      "Data columns (total 7 columns):\n",
      " #   Column                 Non-Null Count  Dtype \n",
      "---  ------                 --------------  ----- \n",
      " 0   CUSIP                  564 non-null    object\n",
      " 1   CNAME                  564 non-null    object\n",
      " 2   FIRST DATE             564 non-null    object\n",
      " 3   TICKER                 564 non-null    object\n",
      " 4   INCORPORATION COUNTRY  504 non-null    object\n",
      " 5   OFFICIAL TICKER        539 non-null    object\n",
      " 6   CTYPE                  203 non-null    object\n",
      "dtypes: object(7)\n",
      "memory usage: 31.0+ KB\n"
     ]
    }
   ],
   "source": [
    "df_Realestate.info()"
   ]
  },
  {
   "cell_type": "code",
   "execution_count": 131,
   "metadata": {},
   "outputs": [],
   "source": [
    "df_Realestate.CTYPE.fillna('REAL ESTATE', inplace=True)"
   ]
  },
  {
   "cell_type": "code",
   "execution_count": 132,
   "metadata": {},
   "outputs": [
    {
     "data": {
      "text/plain": [
       "CUSIP                     0\n",
       "CNAME                     0\n",
       "FIRST DATE                0\n",
       "TICKER                    0\n",
       "INCORPORATION COUNTRY    60\n",
       "OFFICIAL TICKER          25\n",
       "CTYPE                     0\n",
       "dtype: int64"
      ]
     },
     "execution_count": 132,
     "metadata": {},
     "output_type": "execute_result"
    }
   ],
   "source": [
    "df_Realestate.isna().sum()"
   ]
  },
  {
   "cell_type": "code",
   "execution_count": 133,
   "metadata": {},
   "outputs": [
    {
     "data": {
      "text/html": [
       "<div>\n",
       "<style scoped>\n",
       "    .dataframe tbody tr th:only-of-type {\n",
       "        vertical-align: middle;\n",
       "    }\n",
       "\n",
       "    .dataframe tbody tr th {\n",
       "        vertical-align: top;\n",
       "    }\n",
       "\n",
       "    .dataframe thead th {\n",
       "        text-align: right;\n",
       "    }\n",
       "</style>\n",
       "<table border=\"1\" class=\"dataframe\">\n",
       "  <thead>\n",
       "    <tr style=\"text-align: right;\">\n",
       "      <th></th>\n",
       "      <th>CUSIP</th>\n",
       "      <th>CNAME</th>\n",
       "      <th>FIRST DATE</th>\n",
       "      <th>TICKER</th>\n",
       "      <th>INCORPORATION COUNTRY</th>\n",
       "      <th>OFFICIAL TICKER</th>\n",
       "      <th>CTYPE</th>\n",
       "    </tr>\n",
       "  </thead>\n",
       "  <tbody>\n",
       "    <tr>\n",
       "      <th>0</th>\n",
       "      <td>1945610</td>\n",
       "      <td>ALLIED PROPERTIES REIT</td>\n",
       "      <td>9/18/2003</td>\n",
       "      <td>APU1</td>\n",
       "      <td>NC</td>\n",
       "      <td>AP.UN</td>\n",
       "      <td>REIT</td>\n",
       "    </tr>\n",
       "    <tr>\n",
       "      <th>1</th>\n",
       "      <td>1945610</td>\n",
       "      <td>ALLIED PROPERTIES REIT</td>\n",
       "      <td>3/18/2004</td>\n",
       "      <td>APU1</td>\n",
       "      <td>NC</td>\n",
       "      <td>AP</td>\n",
       "      <td>REIT</td>\n",
       "    </tr>\n",
       "    <tr>\n",
       "      <th>2</th>\n",
       "      <td>2679120</td>\n",
       "      <td>AMERICAN INDUSTRIAL PPTY REIT</td>\n",
       "      <td>4/16/1998</td>\n",
       "      <td>IND</td>\n",
       "      <td>NaN</td>\n",
       "      <td>IND</td>\n",
       "      <td>REIT</td>\n",
       "    </tr>\n",
       "    <tr>\n",
       "      <th>3</th>\n",
       "      <td>3215810</td>\n",
       "      <td>AMREIT</td>\n",
       "      <td>4/15/2004</td>\n",
       "      <td>AM4A</td>\n",
       "      <td>NaN</td>\n",
       "      <td>AMY</td>\n",
       "      <td>REIT</td>\n",
       "    </tr>\n",
       "    <tr>\n",
       "      <th>4</th>\n",
       "      <td>3215810</td>\n",
       "      <td>AMREIT</td>\n",
       "      <td>5/20/2004</td>\n",
       "      <td>AM4A</td>\n",
       "      <td>NaN</td>\n",
       "      <td>AMY</td>\n",
       "      <td>REIT</td>\n",
       "    </tr>\n",
       "  </tbody>\n",
       "</table>\n",
       "</div>"
      ],
      "text/plain": [
       "     CUSIP                          CNAME FIRST DATE TICKER  \\\n",
       "0  1945610         ALLIED PROPERTIES REIT  9/18/2003   APU1   \n",
       "1  1945610         ALLIED PROPERTIES REIT  3/18/2004   APU1   \n",
       "2  2679120  AMERICAN INDUSTRIAL PPTY REIT  4/16/1998    IND   \n",
       "3  3215810                         AMREIT  4/15/2004   AM4A   \n",
       "4  3215810                         AMREIT  5/20/2004   AM4A   \n",
       "\n",
       "  INCORPORATION COUNTRY OFFICIAL TICKER CTYPE  \n",
       "0                    NC           AP.UN  REIT  \n",
       "1                    NC              AP  REIT  \n",
       "2                   NaN             IND  REIT  \n",
       "3                   NaN             AMY  REIT  \n",
       "4                   NaN             AMY  REIT  "
      ]
     },
     "execution_count": 133,
     "metadata": {},
     "output_type": "execute_result"
    }
   ],
   "source": [
    "df2 = pd.concat((df_REIT,df_Realestate), axis=0)\n",
    "df2.head()"
   ]
  },
  {
   "cell_type": "code",
   "execution_count": 134,
   "metadata": {},
   "outputs": [
    {
     "data": {
      "text/plain": [
       "REAL ESTATE    564\n",
       "REIT           209\n",
       "Name: CTYPE, dtype: int64"
      ]
     },
     "execution_count": 134,
     "metadata": {},
     "output_type": "execute_result"
    }
   ],
   "source": [
    "df2.CTYPE.value_counts()"
   ]
  },
  {
   "cell_type": "code",
   "execution_count": 135,
   "metadata": {},
   "outputs": [
    {
     "name": "stdout",
     "output_type": "stream",
     "text": [
      "<class 'pandas.core.frame.DataFrame'>\n",
      "Int64Index: 773 entries, 0 to 563\n",
      "Data columns (total 7 columns):\n",
      " #   Column                 Non-Null Count  Dtype \n",
      "---  ------                 --------------  ----- \n",
      " 0   CUSIP                  773 non-null    object\n",
      " 1   CNAME                  773 non-null    object\n",
      " 2   FIRST DATE             773 non-null    object\n",
      " 3   TICKER                 773 non-null    object\n",
      " 4   INCORPORATION COUNTRY  652 non-null    object\n",
      " 5   OFFICIAL TICKER        745 non-null    object\n",
      " 6   CTYPE                  773 non-null    object\n",
      "dtypes: object(7)\n",
      "memory usage: 48.3+ KB\n"
     ]
    }
   ],
   "source": [
    "df2.info()"
   ]
  },
  {
   "cell_type": "code",
   "execution_count": 136,
   "metadata": {},
   "outputs": [
    {
     "data": {
      "text/html": [
       "<div>\n",
       "<style scoped>\n",
       "    .dataframe tbody tr th:only-of-type {\n",
       "        vertical-align: middle;\n",
       "    }\n",
       "\n",
       "    .dataframe tbody tr th {\n",
       "        vertical-align: top;\n",
       "    }\n",
       "\n",
       "    .dataframe thead th {\n",
       "        text-align: right;\n",
       "    }\n",
       "</style>\n",
       "<table border=\"1\" class=\"dataframe\">\n",
       "  <thead>\n",
       "    <tr style=\"text-align: right;\">\n",
       "      <th></th>\n",
       "      <th>TICKER</th>\n",
       "      <th>CUSIP</th>\n",
       "      <th>OFTIC</th>\n",
       "      <th>CNAME</th>\n",
       "      <th>ACTDATS</th>\n",
       "      <th>ESTIMATOR</th>\n",
       "      <th>ANALYS</th>\n",
       "      <th>CURRFL</th>\n",
       "      <th>PDF</th>\n",
       "      <th>FPI</th>\n",
       "      <th>...</th>\n",
       "      <th>ANNDATS</th>\n",
       "      <th>ANNTIMS</th>\n",
       "      <th>ACTUAL</th>\n",
       "      <th>ACTDATS_ACT</th>\n",
       "      <th>ACTTIMS_ACT</th>\n",
       "      <th>ANNDATS_ACT</th>\n",
       "      <th>ANNTIMS_ACT</th>\n",
       "      <th>CURR_ACT</th>\n",
       "      <th>report_curr</th>\n",
       "      <th>CTYPE</th>\n",
       "    </tr>\n",
       "  </thead>\n",
       "  <tbody>\n",
       "    <tr>\n",
       "      <th>0</th>\n",
       "      <td>ACP</td>\n",
       "      <td>45110010</td>\n",
       "      <td>IEP</td>\n",
       "      <td>ICAHN ENTERPRISE</td>\n",
       "      <td>20130410</td>\n",
       "      <td>930</td>\n",
       "      <td>110608</td>\n",
       "      <td>NaN</td>\n",
       "      <td>D</td>\n",
       "      <td>6</td>\n",
       "      <td>...</td>\n",
       "      <td>20130409</td>\n",
       "      <td>23:17:00</td>\n",
       "      <td>2.5260</td>\n",
       "      <td>20130503.0</td>\n",
       "      <td>8:11:52</td>\n",
       "      <td>20130503.0</td>\n",
       "      <td>8:00:00</td>\n",
       "      <td>USD</td>\n",
       "      <td>USD</td>\n",
       "      <td>NaN</td>\n",
       "    </tr>\n",
       "    <tr>\n",
       "      <th>1</th>\n",
       "      <td>ACP</td>\n",
       "      <td>45110010</td>\n",
       "      <td>IEP</td>\n",
       "      <td>ICAHN ENTERPRISE</td>\n",
       "      <td>20130410</td>\n",
       "      <td>930</td>\n",
       "      <td>110608</td>\n",
       "      <td>NaN</td>\n",
       "      <td>D</td>\n",
       "      <td>7</td>\n",
       "      <td>...</td>\n",
       "      <td>20130409</td>\n",
       "      <td>23:17:00</td>\n",
       "      <td>0.5328</td>\n",
       "      <td>20130807.0</td>\n",
       "      <td>8:08:17</td>\n",
       "      <td>20130807.0</td>\n",
       "      <td>8:00:00</td>\n",
       "      <td>USD</td>\n",
       "      <td>USD</td>\n",
       "      <td>NaN</td>\n",
       "    </tr>\n",
       "    <tr>\n",
       "      <th>2</th>\n",
       "      <td>ACP</td>\n",
       "      <td>45110010</td>\n",
       "      <td>IEP</td>\n",
       "      <td>ICAHN ENTERPRISE</td>\n",
       "      <td>20140428</td>\n",
       "      <td>930</td>\n",
       "      <td>110608</td>\n",
       "      <td>NaN</td>\n",
       "      <td>D</td>\n",
       "      <td>6</td>\n",
       "      <td>...</td>\n",
       "      <td>20140417</td>\n",
       "      <td>0:10:00</td>\n",
       "      <td>0.0296</td>\n",
       "      <td>20140507.0</td>\n",
       "      <td>9:20:24</td>\n",
       "      <td>20140507.0</td>\n",
       "      <td>8:30:00</td>\n",
       "      <td>USD</td>\n",
       "      <td>USD</td>\n",
       "      <td>NaN</td>\n",
       "    </tr>\n",
       "    <tr>\n",
       "      <th>3</th>\n",
       "      <td>ACP</td>\n",
       "      <td>45110010</td>\n",
       "      <td>IEP</td>\n",
       "      <td>ICAHN ENTERPRISE</td>\n",
       "      <td>20140428</td>\n",
       "      <td>930</td>\n",
       "      <td>110608</td>\n",
       "      <td>NaN</td>\n",
       "      <td>D</td>\n",
       "      <td>7</td>\n",
       "      <td>...</td>\n",
       "      <td>20140417</td>\n",
       "      <td>0:10:00</td>\n",
       "      <td>4.2626</td>\n",
       "      <td>20140805.0</td>\n",
       "      <td>9:28:45</td>\n",
       "      <td>20140805.0</td>\n",
       "      <td>8:30:00</td>\n",
       "      <td>USD</td>\n",
       "      <td>USD</td>\n",
       "      <td>NaN</td>\n",
       "    </tr>\n",
       "    <tr>\n",
       "      <th>4</th>\n",
       "      <td>ACP</td>\n",
       "      <td>45110010</td>\n",
       "      <td>IEP</td>\n",
       "      <td>ICAHN ENTERPRISE</td>\n",
       "      <td>20140428</td>\n",
       "      <td>930</td>\n",
       "      <td>110608</td>\n",
       "      <td>NaN</td>\n",
       "      <td>D</td>\n",
       "      <td>8</td>\n",
       "      <td>...</td>\n",
       "      <td>20140417</td>\n",
       "      <td>0:10:00</td>\n",
       "      <td>0.1283</td>\n",
       "      <td>20141022.0</td>\n",
       "      <td>19:18:51</td>\n",
       "      <td>20141022.0</td>\n",
       "      <td>13:00:00</td>\n",
       "      <td>USD</td>\n",
       "      <td>USD</td>\n",
       "      <td>NaN</td>\n",
       "    </tr>\n",
       "  </tbody>\n",
       "</table>\n",
       "<p>5 rows × 28 columns</p>\n",
       "</div>"
      ],
      "text/plain": [
       "  TICKER     CUSIP OFTIC             CNAME   ACTDATS  ESTIMATOR  ANALYS  \\\n",
       "0    ACP  45110010   IEP  ICAHN ENTERPRISE  20130410        930  110608   \n",
       "1    ACP  45110010   IEP  ICAHN ENTERPRISE  20130410        930  110608   \n",
       "2    ACP  45110010   IEP  ICAHN ENTERPRISE  20140428        930  110608   \n",
       "3    ACP  45110010   IEP  ICAHN ENTERPRISE  20140428        930  110608   \n",
       "4    ACP  45110010   IEP  ICAHN ENTERPRISE  20140428        930  110608   \n",
       "\n",
       "  CURRFL PDF FPI  ...   ANNDATS   ANNTIMS  ACTUAL  ACTDATS_ACT  ACTTIMS_ACT  \\\n",
       "0    NaN   D   6  ...  20130409  23:17:00  2.5260   20130503.0      8:11:52   \n",
       "1    NaN   D   7  ...  20130409  23:17:00  0.5328   20130807.0      8:08:17   \n",
       "2    NaN   D   6  ...  20140417   0:10:00  0.0296   20140507.0      9:20:24   \n",
       "3    NaN   D   7  ...  20140417   0:10:00  4.2626   20140805.0      9:28:45   \n",
       "4    NaN   D   8  ...  20140417   0:10:00  0.1283   20141022.0     19:18:51   \n",
       "\n",
       "  ANNDATS_ACT  ANNTIMS_ACT CURR_ACT  report_curr CTYPE  \n",
       "0  20130503.0      8:00:00      USD          USD   NaN  \n",
       "1  20130807.0      8:00:00      USD          USD   NaN  \n",
       "2  20140507.0      8:30:00      USD          USD   NaN  \n",
       "3  20140805.0      8:30:00      USD          USD   NaN  \n",
       "4  20141022.0     13:00:00      USD          USD   NaN  \n",
       "\n",
       "[5 rows x 28 columns]"
      ]
     },
     "execution_count": 136,
     "metadata": {},
     "output_type": "execute_result"
    }
   ],
   "source": [
    "dfmerged = pd.merge(df, df2[['CUSIP','TICKER','CNAME','CTYPE']], on=['CUSIP','TICKER','CNAME'], how='left')\n",
    "dfmerged.head()"
   ]
  },
  {
   "cell_type": "code",
   "execution_count": 137,
   "metadata": {},
   "outputs": [
    {
     "name": "stdout",
     "output_type": "stream",
     "text": [
      "<class 'pandas.core.frame.DataFrame'>\n",
      "Int64Index: 90272 entries, 0 to 90271\n",
      "Data columns (total 28 columns):\n",
      " #   Column       Non-Null Count  Dtype  \n",
      "---  ------       --------------  -----  \n",
      " 0   TICKER       90272 non-null  object \n",
      " 1   CUSIP        90091 non-null  object \n",
      " 2   OFTIC        89096 non-null  object \n",
      " 3   CNAME        90091 non-null  object \n",
      " 4   ACTDATS      90272 non-null  int64  \n",
      " 5   ESTIMATOR    90272 non-null  int64  \n",
      " 6   ANALYS       90272 non-null  int64  \n",
      " 7   CURRFL       244 non-null    object \n",
      " 8   PDF          90272 non-null  object \n",
      " 9   FPI          90272 non-null  object \n",
      " 10  MEASURE      90272 non-null  object \n",
      " 11  VALUE        90272 non-null  float64\n",
      " 12  CURR         52815 non-null  object \n",
      " 13  USFIRM       90272 non-null  int64  \n",
      " 14  FPEDATS      90272 non-null  float64\n",
      " 15  ACTTIMS      90272 non-null  object \n",
      " 16  REVDATS      90272 non-null  int64  \n",
      " 17  REVTIMS      90272 non-null  object \n",
      " 18  ANNDATS      90272 non-null  int64  \n",
      " 19  ANNTIMS      90272 non-null  object \n",
      " 20  ACTUAL       90272 non-null  float64\n",
      " 21  ACTDATS_ACT  90272 non-null  float64\n",
      " 22  ACTTIMS_ACT  90272 non-null  object \n",
      " 23  ANNDATS_ACT  90272 non-null  float64\n",
      " 24  ANNTIMS_ACT  90272 non-null  object \n",
      " 25  CURR_ACT     90272 non-null  object \n",
      " 26  report_curr  90272 non-null  object \n",
      " 27  CTYPE        18338 non-null  object \n",
      "dtypes: float64(5), int64(6), object(17)\n",
      "memory usage: 20.0+ MB\n"
     ]
    }
   ],
   "source": [
    "dfmerged.info()"
   ]
  },
  {
   "cell_type": "code",
   "execution_count": 138,
   "metadata": {},
   "outputs": [
    {
     "data": {
      "text/html": [
       "<div>\n",
       "<style scoped>\n",
       "    .dataframe tbody tr th:only-of-type {\n",
       "        vertical-align: middle;\n",
       "    }\n",
       "\n",
       "    .dataframe tbody tr th {\n",
       "        vertical-align: top;\n",
       "    }\n",
       "\n",
       "    .dataframe thead th {\n",
       "        text-align: right;\n",
       "    }\n",
       "</style>\n",
       "<table border=\"1\" class=\"dataframe\">\n",
       "  <thead>\n",
       "    <tr style=\"text-align: right;\">\n",
       "      <th></th>\n",
       "      <th>CUSIP</th>\n",
       "      <th>TICKER</th>\n",
       "      <th>ESTIMATOR</th>\n",
       "      <th>ANALYS</th>\n",
       "      <th>FPI</th>\n",
       "      <th>VALUE</th>\n",
       "      <th>ACTUAL</th>\n",
       "      <th>ANNDATS_ACT</th>\n",
       "      <th>CNAME</th>\n",
       "      <th>USFIRM</th>\n",
       "      <th>CURR</th>\n",
       "      <th>CTYPE</th>\n",
       "    </tr>\n",
       "  </thead>\n",
       "  <tbody>\n",
       "    <tr>\n",
       "      <th>0</th>\n",
       "      <td>45110010</td>\n",
       "      <td>ACP</td>\n",
       "      <td>930</td>\n",
       "      <td>110608</td>\n",
       "      <td>6</td>\n",
       "      <td>3.5719</td>\n",
       "      <td>2.5260</td>\n",
       "      <td>20130503.0</td>\n",
       "      <td>ICAHN ENTERPRISE</td>\n",
       "      <td>1</td>\n",
       "      <td>NaN</td>\n",
       "      <td>NaN</td>\n",
       "    </tr>\n",
       "    <tr>\n",
       "      <th>1</th>\n",
       "      <td>45110010</td>\n",
       "      <td>ACP</td>\n",
       "      <td>930</td>\n",
       "      <td>110608</td>\n",
       "      <td>7</td>\n",
       "      <td>1.5590</td>\n",
       "      <td>0.5328</td>\n",
       "      <td>20130807.0</td>\n",
       "      <td>ICAHN ENTERPRISE</td>\n",
       "      <td>1</td>\n",
       "      <td>NaN</td>\n",
       "      <td>NaN</td>\n",
       "    </tr>\n",
       "    <tr>\n",
       "      <th>2</th>\n",
       "      <td>45110010</td>\n",
       "      <td>ACP</td>\n",
       "      <td>930</td>\n",
       "      <td>110608</td>\n",
       "      <td>6</td>\n",
       "      <td>1.6873</td>\n",
       "      <td>0.0296</td>\n",
       "      <td>20140507.0</td>\n",
       "      <td>ICAHN ENTERPRISE</td>\n",
       "      <td>1</td>\n",
       "      <td>NaN</td>\n",
       "      <td>NaN</td>\n",
       "    </tr>\n",
       "    <tr>\n",
       "      <th>3</th>\n",
       "      <td>45110010</td>\n",
       "      <td>ACP</td>\n",
       "      <td>930</td>\n",
       "      <td>110608</td>\n",
       "      <td>7</td>\n",
       "      <td>2.6641</td>\n",
       "      <td>4.2626</td>\n",
       "      <td>20140805.0</td>\n",
       "      <td>ICAHN ENTERPRISE</td>\n",
       "      <td>1</td>\n",
       "      <td>NaN</td>\n",
       "      <td>NaN</td>\n",
       "    </tr>\n",
       "    <tr>\n",
       "      <th>4</th>\n",
       "      <td>45110010</td>\n",
       "      <td>ACP</td>\n",
       "      <td>930</td>\n",
       "      <td>110608</td>\n",
       "      <td>8</td>\n",
       "      <td>2.5753</td>\n",
       "      <td>0.1283</td>\n",
       "      <td>20141022.0</td>\n",
       "      <td>ICAHN ENTERPRISE</td>\n",
       "      <td>1</td>\n",
       "      <td>NaN</td>\n",
       "      <td>NaN</td>\n",
       "    </tr>\n",
       "  </tbody>\n",
       "</table>\n",
       "</div>"
      ],
      "text/plain": [
       "      CUSIP TICKER  ESTIMATOR  ANALYS FPI   VALUE  ACTUAL  ANNDATS_ACT  \\\n",
       "0  45110010    ACP        930  110608   6  3.5719  2.5260   20130503.0   \n",
       "1  45110010    ACP        930  110608   7  1.5590  0.5328   20130807.0   \n",
       "2  45110010    ACP        930  110608   6  1.6873  0.0296   20140507.0   \n",
       "3  45110010    ACP        930  110608   7  2.6641  4.2626   20140805.0   \n",
       "4  45110010    ACP        930  110608   8  2.5753  0.1283   20141022.0   \n",
       "\n",
       "              CNAME  USFIRM CURR CTYPE  \n",
       "0  ICAHN ENTERPRISE       1  NaN   NaN  \n",
       "1  ICAHN ENTERPRISE       1  NaN   NaN  \n",
       "2  ICAHN ENTERPRISE       1  NaN   NaN  \n",
       "3  ICAHN ENTERPRISE       1  NaN   NaN  \n",
       "4  ICAHN ENTERPRISE       1  NaN   NaN  "
      ]
     },
     "execution_count": 138,
     "metadata": {},
     "output_type": "execute_result"
    }
   ],
   "source": [
    "dfmerged2 = pd.merge(df[['CUSIP','TICKER','ESTIMATOR','ANALYS','FPI','VALUE','ACTUAL','ANNDATS_ACT','CNAME', 'USFIRM','CURR']], df2[['CUSIP','TICKER','CNAME','CTYPE']], on=['CUSIP','TICKER','CNAME'], how='left')\n",
    "dfmerged2.head()"
   ]
  },
  {
   "cell_type": "code",
   "execution_count": 139,
   "metadata": {},
   "outputs": [
    {
     "name": "stdout",
     "output_type": "stream",
     "text": [
      "<class 'pandas.core.frame.DataFrame'>\n",
      "Int64Index: 90272 entries, 0 to 90271\n",
      "Data columns (total 12 columns):\n",
      " #   Column       Non-Null Count  Dtype  \n",
      "---  ------       --------------  -----  \n",
      " 0   CUSIP        90091 non-null  object \n",
      " 1   TICKER       90272 non-null  object \n",
      " 2   ESTIMATOR    90272 non-null  int64  \n",
      " 3   ANALYS       90272 non-null  int64  \n",
      " 4   FPI          90272 non-null  object \n",
      " 5   VALUE        90272 non-null  float64\n",
      " 6   ACTUAL       90272 non-null  float64\n",
      " 7   ANNDATS_ACT  90272 non-null  float64\n",
      " 8   CNAME        90091 non-null  object \n",
      " 9   USFIRM       90272 non-null  int64  \n",
      " 10  CURR         52815 non-null  object \n",
      " 11  CTYPE        18338 non-null  object \n",
      "dtypes: float64(3), int64(3), object(6)\n",
      "memory usage: 9.0+ MB\n"
     ]
    }
   ],
   "source": [
    "dfmerged2.info()"
   ]
  },
  {
   "cell_type": "code",
   "execution_count": 140,
   "metadata": {},
   "outputs": [
    {
     "data": {
      "text/html": [
       "<div>\n",
       "<style scoped>\n",
       "    .dataframe tbody tr th:only-of-type {\n",
       "        vertical-align: middle;\n",
       "    }\n",
       "\n",
       "    .dataframe tbody tr th {\n",
       "        vertical-align: top;\n",
       "    }\n",
       "\n",
       "    .dataframe thead th {\n",
       "        text-align: right;\n",
       "    }\n",
       "</style>\n",
       "<table border=\"1\" class=\"dataframe\">\n",
       "  <thead>\n",
       "    <tr style=\"text-align: right;\">\n",
       "      <th></th>\n",
       "      <th>TICKER</th>\n",
       "      <th>CNAME</th>\n",
       "      <th>ESTIMATOR</th>\n",
       "      <th>ANALYS</th>\n",
       "      <th>FPI</th>\n",
       "      <th>VALUE</th>\n",
       "      <th>CURR</th>\n",
       "      <th>USFIRM</th>\n",
       "      <th>ACTUAL</th>\n",
       "      <th>ANNDATS_ACT</th>\n",
       "      <th>CTYPE</th>\n",
       "    </tr>\n",
       "  </thead>\n",
       "  <tbody>\n",
       "    <tr>\n",
       "      <th>0</th>\n",
       "      <td>ACP</td>\n",
       "      <td>ICAHN ENTERPRISE</td>\n",
       "      <td>930</td>\n",
       "      <td>110608</td>\n",
       "      <td>6</td>\n",
       "      <td>3.5719</td>\n",
       "      <td>NaN</td>\n",
       "      <td>1</td>\n",
       "      <td>2.5260</td>\n",
       "      <td>20130503.0</td>\n",
       "      <td>NaN</td>\n",
       "    </tr>\n",
       "    <tr>\n",
       "      <th>1</th>\n",
       "      <td>ACP</td>\n",
       "      <td>ICAHN ENTERPRISE</td>\n",
       "      <td>930</td>\n",
       "      <td>110608</td>\n",
       "      <td>7</td>\n",
       "      <td>1.5590</td>\n",
       "      <td>NaN</td>\n",
       "      <td>1</td>\n",
       "      <td>0.5328</td>\n",
       "      <td>20130807.0</td>\n",
       "      <td>NaN</td>\n",
       "    </tr>\n",
       "    <tr>\n",
       "      <th>2</th>\n",
       "      <td>ACP</td>\n",
       "      <td>ICAHN ENTERPRISE</td>\n",
       "      <td>930</td>\n",
       "      <td>110608</td>\n",
       "      <td>6</td>\n",
       "      <td>1.6873</td>\n",
       "      <td>NaN</td>\n",
       "      <td>1</td>\n",
       "      <td>0.0296</td>\n",
       "      <td>20140507.0</td>\n",
       "      <td>NaN</td>\n",
       "    </tr>\n",
       "    <tr>\n",
       "      <th>3</th>\n",
       "      <td>ACP</td>\n",
       "      <td>ICAHN ENTERPRISE</td>\n",
       "      <td>930</td>\n",
       "      <td>110608</td>\n",
       "      <td>7</td>\n",
       "      <td>2.6641</td>\n",
       "      <td>NaN</td>\n",
       "      <td>1</td>\n",
       "      <td>4.2626</td>\n",
       "      <td>20140805.0</td>\n",
       "      <td>NaN</td>\n",
       "    </tr>\n",
       "    <tr>\n",
       "      <th>4</th>\n",
       "      <td>ACP</td>\n",
       "      <td>ICAHN ENTERPRISE</td>\n",
       "      <td>930</td>\n",
       "      <td>110608</td>\n",
       "      <td>8</td>\n",
       "      <td>2.5753</td>\n",
       "      <td>NaN</td>\n",
       "      <td>1</td>\n",
       "      <td>0.1283</td>\n",
       "      <td>20141022.0</td>\n",
       "      <td>NaN</td>\n",
       "    </tr>\n",
       "  </tbody>\n",
       "</table>\n",
       "</div>"
      ],
      "text/plain": [
       "  TICKER             CNAME  ESTIMATOR  ANALYS FPI   VALUE CURR  USFIRM  \\\n",
       "0    ACP  ICAHN ENTERPRISE        930  110608   6  3.5719  NaN       1   \n",
       "1    ACP  ICAHN ENTERPRISE        930  110608   7  1.5590  NaN       1   \n",
       "2    ACP  ICAHN ENTERPRISE        930  110608   6  1.6873  NaN       1   \n",
       "3    ACP  ICAHN ENTERPRISE        930  110608   7  2.6641  NaN       1   \n",
       "4    ACP  ICAHN ENTERPRISE        930  110608   8  2.5753  NaN       1   \n",
       "\n",
       "   ACTUAL  ANNDATS_ACT CTYPE  \n",
       "0  2.5260   20130503.0   NaN  \n",
       "1  0.5328   20130807.0   NaN  \n",
       "2  0.0296   20140507.0   NaN  \n",
       "3  4.2626   20140805.0   NaN  \n",
       "4  0.1283   20141022.0   NaN  "
      ]
     },
     "execution_count": 140,
     "metadata": {},
     "output_type": "execute_result"
    }
   ],
   "source": [
    "df_clean = dfmerged2[['TICKER', 'CNAME', 'ESTIMATOR', 'ANALYS', 'FPI', 'VALUE', 'CURR', 'USFIRM', 'ACTUAL', 'ANNDATS_ACT', 'CTYPE']].copy()\n",
    "df_clean.head()"
   ]
  },
  {
   "cell_type": "code",
   "execution_count": 141,
   "metadata": {},
   "outputs": [
    {
     "name": "stdout",
     "output_type": "stream",
     "text": [
      "<class 'pandas.core.frame.DataFrame'>\n",
      "Int64Index: 90272 entries, 0 to 90271\n",
      "Data columns (total 11 columns):\n",
      " #   Column       Non-Null Count  Dtype  \n",
      "---  ------       --------------  -----  \n",
      " 0   TICKER       90272 non-null  object \n",
      " 1   CNAME        90091 non-null  object \n",
      " 2   ESTIMATOR    90272 non-null  int64  \n",
      " 3   ANALYS       90272 non-null  int64  \n",
      " 4   FPI          90272 non-null  object \n",
      " 5   VALUE        90272 non-null  float64\n",
      " 6   CURR         52815 non-null  object \n",
      " 7   USFIRM       90272 non-null  int64  \n",
      " 8   ACTUAL       90272 non-null  float64\n",
      " 9   ANNDATS_ACT  90272 non-null  float64\n",
      " 10  CTYPE        18338 non-null  object \n",
      "dtypes: float64(3), int64(3), object(5)\n",
      "memory usage: 8.3+ MB\n"
     ]
    }
   ],
   "source": [
    "df_clean.info()"
   ]
  },
  {
   "cell_type": "code",
   "execution_count": 142,
   "metadata": {},
   "outputs": [],
   "source": [
    "#df_clean2 = df_clean[df_clean.isnull().any(axis=1)]"
   ]
  },
  {
   "cell_type": "code",
   "execution_count": 143,
   "metadata": {},
   "outputs": [],
   "source": [
    "#df_clean2.to_csv('output.csv',index=False)"
   ]
  },
  {
   "cell_type": "markdown",
   "metadata": {},
   "source": [
    "\n",
    "<a id='analysis'></a>\n",
    "## Part II - Analysis "
   ]
  },
  {
   "cell_type": "code",
   "execution_count": 144,
   "metadata": {},
   "outputs": [
    {
     "data": {
      "text/plain": [
       "225"
      ]
     },
     "execution_count": 144,
     "metadata": {},
     "output_type": "execute_result"
    }
   ],
   "source": [
    "#Unique number of companies from the IBES data pulled from wrds\n",
    "df_clean.TICKER.unique().shape[0]"
   ]
  },
  {
   "cell_type": "markdown",
   "metadata": {},
   "source": [
    "#### There was 225 unique earnings per share security in the Real Estate and REITs industry"
   ]
  },
  {
   "cell_type": "code",
   "execution_count": 145,
   "metadata": {},
   "outputs": [
    {
     "data": {
      "text/plain": [
       "37457"
      ]
     },
     "execution_count": 145,
     "metadata": {},
     "output_type": "execute_result"
    }
   ],
   "source": [
    "#Ratio of US firms to international firms\n",
    "df_clean.query('USFIRM==1').shape[0]"
   ]
  },
  {
   "cell_type": "code",
   "execution_count": 146,
   "metadata": {},
   "outputs": [
    {
     "data": {
      "text/plain": [
       "52815"
      ]
     },
     "execution_count": 146,
     "metadata": {},
     "output_type": "execute_result"
    }
   ],
   "source": [
    "df_clean.query('USFIRM==0').shape[0]"
   ]
  },
  {
   "cell_type": "code",
   "execution_count": 147,
   "metadata": {},
   "outputs": [
    {
     "data": {
      "text/plain": [
       "([<matplotlib.patches.Wedge at 0x1d7851391c0>,\n",
       "  <matplotlib.patches.Wedge at 0x1d7851398b0>],\n",
       " [Text(1.076768803364579, 0.22487539683303026, 'US'),\n",
       "  Text(-1.0767687928374008, -0.22487544724021552, 'International')],\n",
       " [Text(0.5873284381988613, 0.12265930736347104, '6.6%'),\n",
       "  Text(-0.5873284324567639, -0.12265933485829936, '93.4%')])"
      ]
     },
     "execution_count": 147,
     "metadata": {},
     "output_type": "execute_result"
    },
    {
     "data": {
      "image/png": "[encoded data removed]",
      "text/plain": [
       "<Figure size 432x288 with 1 Axes>"
      ]
     },
     "metadata": {},
     "output_type": "display_data"
    }
   ],
   "source": [
    "plt.pie([3748,53443],labels=['US','International'],autopct='%1.1f%%')"
   ]
  },
  {
   "cell_type": "markdown",
   "metadata": {},
   "source": [
    "#### Ratio of US REIT and Real Estate Companies to International REIT and Real Estate companies"
   ]
  },
  {
   "cell_type": "code",
   "execution_count": 148,
   "metadata": {},
   "outputs": [
    {
     "data": {
      "text/plain": [
       "1    24071\n",
       "2    22738\n",
       "3    14027\n",
       "6     7461\n",
       "7     6881\n",
       "8     6365\n",
       "9     5677\n",
       "4     2251\n",
       "5      738\n",
       "E       58\n",
       "F        2\n",
       "I        1\n",
       "G        1\n",
       "H        1\n",
       "Name: FPI, dtype: int64"
      ]
     },
     "execution_count": 148,
     "metadata": {},
     "output_type": "execute_result"
    }
   ],
   "source": [
    "#Distribution of FPI values\n",
    "df_clean.FPI.value_counts()"
   ]
  },
  {
   "cell_type": "code",
   "execution_count": 149,
   "metadata": {},
   "outputs": [
    {
     "data": {
      "text/plain": [
       "<AxesSubplot:xlabel='FPI', ylabel='Count'>"
      ]
     },
     "execution_count": 149,
     "metadata": {},
     "output_type": "execute_result"
    },
    {
     "data": {
      "image/png": "[encoded data removed]",
      "text/plain": [
       "<Figure size 432x288 with 1 Axes>"
      ]
     },
     "metadata": {
      "needs_background": "light"
     },
     "output_type": "display_data"
    }
   ],
   "source": [
    "df_clean.FPI.value_counts().plot(kind='bar', xlabel=\"FPI\", ylabel=\"Count\")"
   ]
  },
  {
   "cell_type": "code",
   "execution_count": 150,
   "metadata": {},
   "outputs": [
    {
     "data": {
      "text/plain": [
       "33026     3351\n",
       "48707     2453\n",
       "51570     1619\n",
       "96397     1527\n",
       "110255    1323\n",
       "          ... \n",
       "147254       1\n",
       "115986       1\n",
       "115508       1\n",
       "138767       1\n",
       "73387        1\n",
       "Name: ANALYS, Length: 1588, dtype: int64"
      ]
     },
     "execution_count": 150,
     "metadata": {},
     "output_type": "execute_result"
    }
   ],
   "source": [
    "#Analyst with the most predictions from 2015 to 2021\n",
    "df_clean.ANALYS.value_counts()"
   ]
  },
  {
   "cell_type": "markdown",
   "metadata": {},
   "source": [
    "#### Analyst 3351 had the most eps predictions from 2005 to 2021"
   ]
  },
  {
   "cell_type": "code",
   "execution_count": 151,
   "metadata": {},
   "outputs": [
    {
     "data": {
      "text/plain": [
       "608     3336\n",
       "1331    2977\n",
       "190     2676\n",
       "3149    2440\n",
       "192     2350\n",
       "        ... \n",
       "2955       1\n",
       "3381       1\n",
       "2561       1\n",
       "4510       1\n",
       "1202       1\n",
       "Name: ESTIMATOR, Length: 474, dtype: int64"
      ]
     },
     "execution_count": 151,
     "metadata": {},
     "output_type": "execute_result"
    }
   ],
   "source": [
    "#Broker with the most predictions from 2015 to 2021\n",
    "df_clean.ESTIMATOR.value_counts()"
   ]
  },
  {
   "cell_type": "markdown",
   "metadata": {},
   "source": [
    "#### Broker with the most eps predictions is given by id 3336"
   ]
  },
  {
   "cell_type": "code",
   "execution_count": 152,
   "metadata": {},
   "outputs": [
    {
     "data": {
      "text/plain": [
       "SGD    11090\n",
       "CAD     8509\n",
       "EUR     7870\n",
       "CNY     6335\n",
       "HKD     3997\n",
       "THB     2966\n",
       "MYR     2928\n",
       "AUD     2200\n",
       "JPY     2093\n",
       "SAR      952\n",
       "INR      839\n",
       "MXN      746\n",
       "BPN      556\n",
       "KRW      395\n",
       "ZAR      335\n",
       "AED      277\n",
       "USD      272\n",
       "TWD      193\n",
       "KWD       92\n",
       "BGN       47\n",
       "JOD       41\n",
       "SEK       37\n",
       "QAR       29\n",
       "CZK        6\n",
       "NOK        4\n",
       "VND        4\n",
       "GBP        2\n",
       "Name: CURR, dtype: int64"
      ]
     },
     "execution_count": 152,
     "metadata": {},
     "output_type": "execute_result"
    }
   ],
   "source": [
    "#Most predicted eps currency from 2015 to 2021\n",
    "df_clean.CURR.value_counts()"
   ]
  },
  {
   "cell_type": "markdown",
   "metadata": {},
   "source": [
    "#### Most predicted eps currency is SGD(singapore dollar)"
   ]
  },
  {
   "cell_type": "code",
   "execution_count": 153,
   "metadata": {},
   "outputs": [
    {
     "data": {
      "text/plain": [
       "HEALTH CARE REIT    12105\n",
       "BREITBURN ENERGY     2546\n",
       "K-REIT ASIA          1965\n",
       "BLACKSTONE MORTG     1869\n",
       "WHITESTONE REIT      1851\n",
       "                    ...  \n",
       "AL-TAHDITH FOR R        1\n",
       "F&C UK REAL             1\n",
       "TRASTOR REAL EST        1\n",
       "JIANGXI ZHONGJIA        1\n",
       "DR REAL ESTATE A        1\n",
       "Name: CNAME, Length: 383, dtype: int64"
      ]
     },
     "execution_count": 153,
     "metadata": {},
     "output_type": "execute_result"
    }
   ],
   "source": [
    "#Company with the highest number of esp predictions from 2015 to 2021\n",
    "df_clean.CNAME.value_counts()"
   ]
  },
  {
   "cell_type": "markdown",
   "metadata": {},
   "source": [
    "#### Health Care REIT is the most predicted company eps"
   ]
  },
  {
   "cell_type": "code",
   "execution_count": 154,
   "metadata": {},
   "outputs": [
    {
     "data": {
      "text/plain": [
       "count    90272.000000\n",
       "mean         5.842509\n",
       "std         44.765241\n",
       "min       -573.260000\n",
       "25%          0.108000\n",
       "50%          0.410000\n",
       "75%          1.330000\n",
       "max       2678.249200\n",
       "Name: ACTUAL, dtype: float64"
      ]
     },
     "execution_count": 154,
     "metadata": {},
     "output_type": "execute_result"
    }
   ],
   "source": [
    "#summary statistics of actual from 2015 to 2021\n",
    "df_clean.ACTUAL.describe()"
   ]
  },
  {
   "cell_type": "code",
   "execution_count": 155,
   "metadata": {},
   "outputs": [
    {
     "data": {
      "text/plain": [
       "count    90272.000000\n",
       "mean         6.958566\n",
       "std         79.874954\n",
       "min       -715.410000\n",
       "25%          0.167400\n",
       "50%          0.474800\n",
       "75%          1.410000\n",
       "max       4312.280000\n",
       "Name: VALUE, dtype: float64"
      ]
     },
     "execution_count": 155,
     "metadata": {},
     "output_type": "execute_result"
    }
   ],
   "source": [
    "#summary statistics of predicted from 2015 to 2021\n",
    "df_clean.VALUE.describe()"
   ]
  },
  {
   "cell_type": "markdown",
   "metadata": {},
   "source": [
    "#### Summary statistics for actual and predicted eps is given above"
   ]
  },
  {
   "cell_type": "code",
   "execution_count": 156,
   "metadata": {},
   "outputs": [],
   "source": [
    "#df_clean['ANNDATS_ACT'].astype(str)\n",
    "df_clean['ANNDATS_ACT']=pd.to_datetime(df_clean['ANNDATS_ACT'], format='%Y%m%d')\n",
    "df_clean['year'] = df_clean['ANNDATS_ACT'].dt.year\n",
    "df_clean['month'] = df_clean['ANNDATS_ACT'].dt.month"
   ]
  },
  {
   "cell_type": "code",
   "execution_count": 157,
   "metadata": {},
   "outputs": [
    {
     "data": {
      "text/html": [
       "<div>\n",
       "<style scoped>\n",
       "    .dataframe tbody tr th:only-of-type {\n",
       "        vertical-align: middle;\n",
       "    }\n",
       "\n",
       "    .dataframe tbody tr th {\n",
       "        vertical-align: top;\n",
       "    }\n",
       "\n",
       "    .dataframe thead th {\n",
       "        text-align: right;\n",
       "    }\n",
       "</style>\n",
       "<table border=\"1\" class=\"dataframe\">\n",
       "  <thead>\n",
       "    <tr style=\"text-align: right;\">\n",
       "      <th></th>\n",
       "      <th>TICKER</th>\n",
       "      <th>CNAME</th>\n",
       "      <th>ESTIMATOR</th>\n",
       "      <th>ANALYS</th>\n",
       "      <th>FPI</th>\n",
       "      <th>VALUE</th>\n",
       "      <th>CURR</th>\n",
       "      <th>USFIRM</th>\n",
       "      <th>ACTUAL</th>\n",
       "      <th>ANNDATS_ACT</th>\n",
       "      <th>CTYPE</th>\n",
       "      <th>year</th>\n",
       "      <th>month</th>\n",
       "    </tr>\n",
       "  </thead>\n",
       "  <tbody>\n",
       "    <tr>\n",
       "      <th>0</th>\n",
       "      <td>ACP</td>\n",
       "      <td>ICAHN ENTERPRISE</td>\n",
       "      <td>930</td>\n",
       "      <td>110608</td>\n",
       "      <td>6</td>\n",
       "      <td>3.5719</td>\n",
       "      <td>NaN</td>\n",
       "      <td>1</td>\n",
       "      <td>2.5260</td>\n",
       "      <td>2013-05-03</td>\n",
       "      <td>NaN</td>\n",
       "      <td>2013</td>\n",
       "      <td>5</td>\n",
       "    </tr>\n",
       "    <tr>\n",
       "      <th>1</th>\n",
       "      <td>ACP</td>\n",
       "      <td>ICAHN ENTERPRISE</td>\n",
       "      <td>930</td>\n",
       "      <td>110608</td>\n",
       "      <td>7</td>\n",
       "      <td>1.5590</td>\n",
       "      <td>NaN</td>\n",
       "      <td>1</td>\n",
       "      <td>0.5328</td>\n",
       "      <td>2013-08-07</td>\n",
       "      <td>NaN</td>\n",
       "      <td>2013</td>\n",
       "      <td>8</td>\n",
       "    </tr>\n",
       "    <tr>\n",
       "      <th>2</th>\n",
       "      <td>ACP</td>\n",
       "      <td>ICAHN ENTERPRISE</td>\n",
       "      <td>930</td>\n",
       "      <td>110608</td>\n",
       "      <td>6</td>\n",
       "      <td>1.6873</td>\n",
       "      <td>NaN</td>\n",
       "      <td>1</td>\n",
       "      <td>0.0296</td>\n",
       "      <td>2014-05-07</td>\n",
       "      <td>NaN</td>\n",
       "      <td>2014</td>\n",
       "      <td>5</td>\n",
       "    </tr>\n",
       "    <tr>\n",
       "      <th>3</th>\n",
       "      <td>ACP</td>\n",
       "      <td>ICAHN ENTERPRISE</td>\n",
       "      <td>930</td>\n",
       "      <td>110608</td>\n",
       "      <td>7</td>\n",
       "      <td>2.6641</td>\n",
       "      <td>NaN</td>\n",
       "      <td>1</td>\n",
       "      <td>4.2626</td>\n",
       "      <td>2014-08-05</td>\n",
       "      <td>NaN</td>\n",
       "      <td>2014</td>\n",
       "      <td>8</td>\n",
       "    </tr>\n",
       "    <tr>\n",
       "      <th>4</th>\n",
       "      <td>ACP</td>\n",
       "      <td>ICAHN ENTERPRISE</td>\n",
       "      <td>930</td>\n",
       "      <td>110608</td>\n",
       "      <td>8</td>\n",
       "      <td>2.5753</td>\n",
       "      <td>NaN</td>\n",
       "      <td>1</td>\n",
       "      <td>0.1283</td>\n",
       "      <td>2014-10-22</td>\n",
       "      <td>NaN</td>\n",
       "      <td>2014</td>\n",
       "      <td>10</td>\n",
       "    </tr>\n",
       "  </tbody>\n",
       "</table>\n",
       "</div>"
      ],
      "text/plain": [
       "  TICKER             CNAME  ESTIMATOR  ANALYS FPI   VALUE CURR  USFIRM  \\\n",
       "0    ACP  ICAHN ENTERPRISE        930  110608   6  3.5719  NaN       1   \n",
       "1    ACP  ICAHN ENTERPRISE        930  110608   7  1.5590  NaN       1   \n",
       "2    ACP  ICAHN ENTERPRISE        930  110608   6  1.6873  NaN       1   \n",
       "3    ACP  ICAHN ENTERPRISE        930  110608   7  2.6641  NaN       1   \n",
       "4    ACP  ICAHN ENTERPRISE        930  110608   8  2.5753  NaN       1   \n",
       "\n",
       "   ACTUAL ANNDATS_ACT CTYPE  year  month  \n",
       "0  2.5260  2013-05-03   NaN  2013      5  \n",
       "1  0.5328  2013-08-07   NaN  2013      8  \n",
       "2  0.0296  2014-05-07   NaN  2014      5  \n",
       "3  4.2626  2014-08-05   NaN  2014      8  \n",
       "4  0.1283  2014-10-22   NaN  2014     10  "
      ]
     },
     "execution_count": 157,
     "metadata": {},
     "output_type": "execute_result"
    }
   ],
   "source": [
    "df_clean.head()"
   ]
  },
  {
   "cell_type": "code",
   "execution_count": 158,
   "metadata": {},
   "outputs": [
    {
     "data": {
      "text/plain": [
       "2013    8156\n",
       "2014    7882\n",
       "2015    7605\n",
       "2012    7595\n",
       "2016    6880\n",
       "2011    6631\n",
       "2017    5699\n",
       "2010    5370\n",
       "2018    5294\n",
       "2019    4904\n",
       "2020    4845\n",
       "2021    4828\n",
       "2009    4217\n",
       "2008    3303\n",
       "2022    2723\n",
       "2007    2452\n",
       "2006    1523\n",
       "2005     365\n",
       "Name: year, dtype: int64"
      ]
     },
     "execution_count": 158,
     "metadata": {},
     "output_type": "execute_result"
    }
   ],
   "source": [
    "df_clean.year.value_counts()"
   ]
  },
  {
   "cell_type": "code",
   "execution_count": 159,
   "metadata": {},
   "outputs": [
    {
     "data": {
      "text/plain": [
       "<AxesSubplot:xlabel='ANNDATS_ACT Years', ylabel='Count'>"
      ]
     },
     "execution_count": 159,
     "metadata": {},
     "output_type": "execute_result"
    },
    {
     "data": {
      "image/png": "[encoded data removed]",
      "text/plain": [
       "<Figure size 432x288 with 1 Axes>"
      ]
     },
     "metadata": {
      "needs_background": "light"
     },
     "output_type": "display_data"
    }
   ],
   "source": [
    "df_clean.year.value_counts().plot(kind='bar', xlabel='ANNDATS_ACT Years',ylabel='Count')"
   ]
  },
  {
   "cell_type": "code",
   "execution_count": 160,
   "metadata": {},
   "outputs": [
    {
     "data": {
      "text/plain": [
       "<AxesSubplot:xlabel='ANNDATS_ACT Months', ylabel='Count'>"
      ]
     },
     "execution_count": 160,
     "metadata": {},
     "output_type": "execute_result"
    },
    {
     "data": {
      "image/png": "[encoded data removed]",
      "text/plain": [
       "<Figure size 432x288 with 1 Axes>"
      ]
     },
     "metadata": {
      "needs_background": "light"
     },
     "output_type": "display_data"
    }
   ],
   "source": [
    "df_clean.month.value_counts().plot(kind='bar', xlabel='ANNDATS_ACT Months',ylabel='Count')"
   ]
  },
  {
   "cell_type": "markdown",
   "metadata": {},
   "source": [
    "#### Calculation of Forecast Error and Forecast Dispersion for REITs"
   ]
  },
  {
   "cell_type": "code",
   "execution_count": 161,
   "metadata": {},
   "outputs": [
    {
     "name": "stderr",
     "output_type": "stream",
     "text": [
      "<ipython-input-161-7b5b25eeefa7>:3: SettingWithCopyWarning: \n",
      "A value is trying to be set on a copy of a slice from a DataFrame.\n",
      "Try using .loc[row_indexer,col_indexer] = value instead\n",
      "\n",
      "See the caveats in the documentation: https://pandas.pydata.org/pandas-docs/stable/user_guide/indexing.html#returning-a-view-versus-a-copy\n",
      "  df_cleanREIT['ERROR'] = df_cleanREIT['ACTUAL'] - df_cleanREIT['VALUE']\n"
     ]
    },
    {
     "data": {
      "text/html": [
       "<div>\n",
       "<style scoped>\n",
       "    .dataframe tbody tr th:only-of-type {\n",
       "        vertical-align: middle;\n",
       "    }\n",
       "\n",
       "    .dataframe tbody tr th {\n",
       "        vertical-align: top;\n",
       "    }\n",
       "\n",
       "    .dataframe thead th {\n",
       "        text-align: right;\n",
       "    }\n",
       "</style>\n",
       "<table border=\"1\" class=\"dataframe\">\n",
       "  <thead>\n",
       "    <tr style=\"text-align: right;\">\n",
       "      <th></th>\n",
       "      <th>TICKER</th>\n",
       "      <th>CNAME</th>\n",
       "      <th>ESTIMATOR</th>\n",
       "      <th>ANALYS</th>\n",
       "      <th>FPI</th>\n",
       "      <th>VALUE</th>\n",
       "      <th>CURR</th>\n",
       "      <th>USFIRM</th>\n",
       "      <th>ACTUAL</th>\n",
       "      <th>ANNDATS_ACT</th>\n",
       "      <th>CTYPE</th>\n",
       "      <th>year</th>\n",
       "      <th>month</th>\n",
       "      <th>ERROR</th>\n",
       "    </tr>\n",
       "  </thead>\n",
       "  <tbody>\n",
       "    <tr>\n",
       "      <th>1637</th>\n",
       "      <td>AMRZ</td>\n",
       "      <td>AMREIT INC</td>\n",
       "      <td>930</td>\n",
       "      <td>110255</td>\n",
       "      <td>1</td>\n",
       "      <td>0.39</td>\n",
       "      <td>NaN</td>\n",
       "      <td>1</td>\n",
       "      <td>0.39</td>\n",
       "      <td>2013-02-19</td>\n",
       "      <td>REIT</td>\n",
       "      <td>2013</td>\n",
       "      <td>2</td>\n",
       "      <td>0.00</td>\n",
       "    </tr>\n",
       "    <tr>\n",
       "      <th>1638</th>\n",
       "      <td>AMRZ</td>\n",
       "      <td>AMREIT INC</td>\n",
       "      <td>930</td>\n",
       "      <td>110255</td>\n",
       "      <td>6</td>\n",
       "      <td>0.08</td>\n",
       "      <td>NaN</td>\n",
       "      <td>1</td>\n",
       "      <td>0.09</td>\n",
       "      <td>2013-02-19</td>\n",
       "      <td>REIT</td>\n",
       "      <td>2013</td>\n",
       "      <td>2</td>\n",
       "      <td>0.01</td>\n",
       "    </tr>\n",
       "    <tr>\n",
       "      <th>1640</th>\n",
       "      <td>AMRZ</td>\n",
       "      <td>AMREIT INC</td>\n",
       "      <td>930</td>\n",
       "      <td>110255</td>\n",
       "      <td>1</td>\n",
       "      <td>0.32</td>\n",
       "      <td>NaN</td>\n",
       "      <td>1</td>\n",
       "      <td>0.83</td>\n",
       "      <td>2014-02-18</td>\n",
       "      <td>REIT</td>\n",
       "      <td>2014</td>\n",
       "      <td>2</td>\n",
       "      <td>0.51</td>\n",
       "    </tr>\n",
       "    <tr>\n",
       "      <th>1641</th>\n",
       "      <td>AMRZ</td>\n",
       "      <td>AMREIT INC</td>\n",
       "      <td>930</td>\n",
       "      <td>110255</td>\n",
       "      <td>1</td>\n",
       "      <td>0.63</td>\n",
       "      <td>NaN</td>\n",
       "      <td>1</td>\n",
       "      <td>0.83</td>\n",
       "      <td>2014-02-18</td>\n",
       "      <td>REIT</td>\n",
       "      <td>2014</td>\n",
       "      <td>2</td>\n",
       "      <td>0.20</td>\n",
       "    </tr>\n",
       "    <tr>\n",
       "      <th>1642</th>\n",
       "      <td>AMRZ</td>\n",
       "      <td>AMREIT INC</td>\n",
       "      <td>3039</td>\n",
       "      <td>5845</td>\n",
       "      <td>1</td>\n",
       "      <td>0.74</td>\n",
       "      <td>NaN</td>\n",
       "      <td>1</td>\n",
       "      <td>0.83</td>\n",
       "      <td>2014-02-18</td>\n",
       "      <td>REIT</td>\n",
       "      <td>2014</td>\n",
       "      <td>2</td>\n",
       "      <td>0.09</td>\n",
       "    </tr>\n",
       "  </tbody>\n",
       "</table>\n",
       "</div>"
      ],
      "text/plain": [
       "     TICKER       CNAME  ESTIMATOR  ANALYS FPI  VALUE CURR  USFIRM  ACTUAL  \\\n",
       "1637   AMRZ  AMREIT INC        930  110255   1   0.39  NaN       1    0.39   \n",
       "1638   AMRZ  AMREIT INC        930  110255   6   0.08  NaN       1    0.09   \n",
       "1640   AMRZ  AMREIT INC        930  110255   1   0.32  NaN       1    0.83   \n",
       "1641   AMRZ  AMREIT INC        930  110255   1   0.63  NaN       1    0.83   \n",
       "1642   AMRZ  AMREIT INC       3039    5845   1   0.74  NaN       1    0.83   \n",
       "\n",
       "     ANNDATS_ACT CTYPE  year  month  ERROR  \n",
       "1637  2013-02-19  REIT  2013      2   0.00  \n",
       "1638  2013-02-19  REIT  2013      2   0.01  \n",
       "1640  2014-02-18  REIT  2014      2   0.51  \n",
       "1641  2014-02-18  REIT  2014      2   0.20  \n",
       "1642  2014-02-18  REIT  2014      2   0.09  "
      ]
     },
     "execution_count": 161,
     "metadata": {},
     "output_type": "execute_result"
    }
   ],
   "source": [
    "#Calculating Signed Earnings Forecast Error and Forecast Dispersion for REIT\n",
    "df_cleanREIT = df_clean.query('CTYPE==\"REIT\"')\n",
    "df_cleanREIT['ERROR'] = df_cleanREIT['ACTUAL'] - df_cleanREIT['VALUE']\n",
    "df_cleanREIT.head()"
   ]
  },
  {
   "cell_type": "code",
   "execution_count": 162,
   "metadata": {},
   "outputs": [
    {
     "data": {
      "text/plain": [
       "17868"
      ]
     },
     "execution_count": 162,
     "metadata": {},
     "output_type": "execute_result"
    }
   ],
   "source": [
    "df_cleanREIT.shape[0]"
   ]
  },
  {
   "cell_type": "markdown",
   "metadata": {},
   "source": [
    "#### SUMMARY STATISTICS FOR REITs"
   ]
  },
  {
   "cell_type": "code",
   "execution_count": 164,
   "metadata": {},
   "outputs": [
    {
     "data": {
      "text/html": [
       "<div>\n",
       "<style scoped>\n",
       "    .dataframe tbody tr th:only-of-type {\n",
       "        vertical-align: middle;\n",
       "    }\n",
       "\n",
       "    .dataframe tbody tr th {\n",
       "        vertical-align: top;\n",
       "    }\n",
       "\n",
       "    .dataframe thead th {\n",
       "        text-align: right;\n",
       "    }\n",
       "</style>\n",
       "<table border=\"1\" class=\"dataframe\">\n",
       "  <thead>\n",
       "    <tr style=\"text-align: right;\">\n",
       "      <th></th>\n",
       "      <th>ESTIMATOR</th>\n",
       "      <th>ANALYS</th>\n",
       "      <th>VALUE</th>\n",
       "      <th>USFIRM</th>\n",
       "      <th>ACTUAL</th>\n",
       "      <th>year</th>\n",
       "      <th>month</th>\n",
       "      <th>ERROR</th>\n",
       "    </tr>\n",
       "  </thead>\n",
       "  <tbody>\n",
       "    <tr>\n",
       "      <th>count</th>\n",
       "      <td>17868.000000</td>\n",
       "      <td>17868.000000</td>\n",
       "      <td>17868.000000</td>\n",
       "      <td>17868.000000</td>\n",
       "      <td>17868.000000</td>\n",
       "      <td>17868.000000</td>\n",
       "      <td>17868.000000</td>\n",
       "      <td>17868.000000</td>\n",
       "    </tr>\n",
       "    <tr>\n",
       "      <th>mean</th>\n",
       "      <td>1027.625979</td>\n",
       "      <td>88205.989143</td>\n",
       "      <td>0.939293</td>\n",
       "      <td>0.785426</td>\n",
       "      <td>0.841236</td>\n",
       "      <td>2013.150045</td>\n",
       "      <td>3.874580</td>\n",
       "      <td>-0.098058</td>\n",
       "    </tr>\n",
       "    <tr>\n",
       "      <th>std</th>\n",
       "      <td>989.324992</td>\n",
       "      <td>44444.747374</td>\n",
       "      <td>3.723945</td>\n",
       "      <td>0.410538</td>\n",
       "      <td>3.338444</td>\n",
       "      <td>3.652143</td>\n",
       "      <td>3.333516</td>\n",
       "      <td>1.291436</td>\n",
       "    </tr>\n",
       "    <tr>\n",
       "      <th>min</th>\n",
       "      <td>4.000000</td>\n",
       "      <td>0.000000</td>\n",
       "      <td>-7.764000</td>\n",
       "      <td>0.000000</td>\n",
       "      <td>-5.900000</td>\n",
       "      <td>2005.000000</td>\n",
       "      <td>1.000000</td>\n",
       "      <td>-43.299900</td>\n",
       "    </tr>\n",
       "    <tr>\n",
       "      <th>25%</th>\n",
       "      <td>192.000000</td>\n",
       "      <td>45405.000000</td>\n",
       "      <td>0.102000</td>\n",
       "      <td>1.000000</td>\n",
       "      <td>0.058000</td>\n",
       "      <td>2011.000000</td>\n",
       "      <td>2.000000</td>\n",
       "      <td>-0.150000</td>\n",
       "    </tr>\n",
       "    <tr>\n",
       "      <th>50%</th>\n",
       "      <td>608.000000</td>\n",
       "      <td>89631.000000</td>\n",
       "      <td>0.350000</td>\n",
       "      <td>1.000000</td>\n",
       "      <td>0.280000</td>\n",
       "      <td>2013.000000</td>\n",
       "      <td>2.000000</td>\n",
       "      <td>-0.016000</td>\n",
       "    </tr>\n",
       "    <tr>\n",
       "      <th>75%</th>\n",
       "      <td>1523.000000</td>\n",
       "      <td>123015.000000</td>\n",
       "      <td>1.100000</td>\n",
       "      <td>1.000000</td>\n",
       "      <td>0.980000</td>\n",
       "      <td>2015.000000</td>\n",
       "      <td>5.000000</td>\n",
       "      <td>0.050000</td>\n",
       "    </tr>\n",
       "    <tr>\n",
       "      <th>max</th>\n",
       "      <td>3965.000000</td>\n",
       "      <td>185832.000000</td>\n",
       "      <td>77.138000</td>\n",
       "      <td>1.000000</td>\n",
       "      <td>64.280000</td>\n",
       "      <td>2022.000000</td>\n",
       "      <td>11.000000</td>\n",
       "      <td>26.155000</td>\n",
       "    </tr>\n",
       "  </tbody>\n",
       "</table>\n",
       "</div>"
      ],
      "text/plain": [
       "          ESTIMATOR         ANALYS         VALUE        USFIRM        ACTUAL  \\\n",
       "count  17868.000000   17868.000000  17868.000000  17868.000000  17868.000000   \n",
       "mean    1027.625979   88205.989143      0.939293      0.785426      0.841236   \n",
       "std      989.324992   44444.747374      3.723945      0.410538      3.338444   \n",
       "min        4.000000       0.000000     -7.764000      0.000000     -5.900000   \n",
       "25%      192.000000   45405.000000      0.102000      1.000000      0.058000   \n",
       "50%      608.000000   89631.000000      0.350000      1.000000      0.280000   \n",
       "75%     1523.000000  123015.000000      1.100000      1.000000      0.980000   \n",
       "max     3965.000000  185832.000000     77.138000      1.000000     64.280000   \n",
       "\n",
       "               year         month         ERROR  \n",
       "count  17868.000000  17868.000000  17868.000000  \n",
       "mean    2013.150045      3.874580     -0.098058  \n",
       "std        3.652143      3.333516      1.291436  \n",
       "min     2005.000000      1.000000    -43.299900  \n",
       "25%     2011.000000      2.000000     -0.150000  \n",
       "50%     2013.000000      2.000000     -0.016000  \n",
       "75%     2015.000000      5.000000      0.050000  \n",
       "max     2022.000000     11.000000     26.155000  "
      ]
     },
     "execution_count": 164,
     "metadata": {},
     "output_type": "execute_result"
    }
   ],
   "source": [
    "df_cleanREIT.describe()"
   ]
  },
  {
   "cell_type": "markdown",
   "metadata": {},
   "source": [
    "#### Signed Forecast Error for REITs is -0.098"
   ]
  },
  {
   "cell_type": "code",
   "execution_count": 165,
   "metadata": {},
   "outputs": [
    {
     "data": {
      "text/plain": [
       "-0.09805752742332664"
      ]
     },
     "execution_count": 165,
     "metadata": {},
     "output_type": "execute_result"
    }
   ],
   "source": [
    "#signed Forecast error\n",
    "df_cleanREIT['ERROR'].sum()/df_cleanREIT['ERROR'].shape[0]"
   ]
  },
  {
   "cell_type": "markdown",
   "metadata": {},
   "source": [
    "#### Signed Forecast Dispersion for REITs is 3.96 "
   ]
  },
  {
   "cell_type": "code",
   "execution_count": 166,
   "metadata": {},
   "outputs": [
    {
     "data": {
      "text/plain": [
       "3.9646249075681292"
      ]
     },
     "execution_count": 166,
     "metadata": {},
     "output_type": "execute_result"
    }
   ],
   "source": [
    "#Forecast Dispersion\n",
    "df_cleanREIT['VALUE'].std()/abs(df_cleanREIT['VALUE'].mean())"
   ]
  },
  {
   "cell_type": "markdown",
   "metadata": {},
   "source": [
    "#### CALCULATION OF FORECAST ERROR AND FORECAST DISPERSION ERROR FOR REAL ESTATE COMPANIES"
   ]
  },
  {
   "cell_type": "code",
   "execution_count": 167,
   "metadata": {},
   "outputs": [
    {
     "name": "stderr",
     "output_type": "stream",
     "text": [
      "<ipython-input-167-eab1324403fc>:2: SettingWithCopyWarning: \n",
      "A value is trying to be set on a copy of a slice from a DataFrame.\n",
      "Try using .loc[row_indexer,col_indexer] = value instead\n",
      "\n",
      "See the caveats in the documentation: https://pandas.pydata.org/pandas-docs/stable/user_guide/indexing.html#returning-a-view-versus-a-copy\n",
      "  df_cleanRealestate['ERROR'] = df_cleanRealestate['ACTUAL'] - df_cleanRealestate['VALUE']\n"
     ]
    },
    {
     "data": {
      "text/html": [
       "<div>\n",
       "<style scoped>\n",
       "    .dataframe tbody tr th:only-of-type {\n",
       "        vertical-align: middle;\n",
       "    }\n",
       "\n",
       "    .dataframe tbody tr th {\n",
       "        vertical-align: top;\n",
       "    }\n",
       "\n",
       "    .dataframe thead th {\n",
       "        text-align: right;\n",
       "    }\n",
       "</style>\n",
       "<table border=\"1\" class=\"dataframe\">\n",
       "  <thead>\n",
       "    <tr style=\"text-align: right;\">\n",
       "      <th></th>\n",
       "      <th>TICKER</th>\n",
       "      <th>CNAME</th>\n",
       "      <th>ESTIMATOR</th>\n",
       "      <th>ANALYS</th>\n",
       "      <th>FPI</th>\n",
       "      <th>VALUE</th>\n",
       "      <th>CURR</th>\n",
       "      <th>USFIRM</th>\n",
       "      <th>ACTUAL</th>\n",
       "      <th>ANNDATS_ACT</th>\n",
       "      <th>CTYPE</th>\n",
       "      <th>year</th>\n",
       "      <th>month</th>\n",
       "      <th>ERROR</th>\n",
       "    </tr>\n",
       "  </thead>\n",
       "  <tbody>\n",
       "    <tr>\n",
       "      <th>35113</th>\n",
       "      <td>WRE</td>\n",
       "      <td>WASH REAL ESTATE</td>\n",
       "      <td>353</td>\n",
       "      <td>110697</td>\n",
       "      <td>1</td>\n",
       "      <td>1.83</td>\n",
       "      <td>NaN</td>\n",
       "      <td>1</td>\n",
       "      <td>0.96</td>\n",
       "      <td>2006-02-16</td>\n",
       "      <td>REAL ESTATE</td>\n",
       "      <td>2006</td>\n",
       "      <td>2</td>\n",
       "      <td>-0.87</td>\n",
       "    </tr>\n",
       "    <tr>\n",
       "      <th>35114</th>\n",
       "      <td>WRE</td>\n",
       "      <td>WASH REAL ESTATE</td>\n",
       "      <td>353</td>\n",
       "      <td>110697</td>\n",
       "      <td>6</td>\n",
       "      <td>0.26</td>\n",
       "      <td>NaN</td>\n",
       "      <td>1</td>\n",
       "      <td>0.26</td>\n",
       "      <td>2006-02-16</td>\n",
       "      <td>REAL ESTATE</td>\n",
       "      <td>2006</td>\n",
       "      <td>2</td>\n",
       "      <td>0.00</td>\n",
       "    </tr>\n",
       "    <tr>\n",
       "      <th>35115</th>\n",
       "      <td>WRE</td>\n",
       "      <td>WASH REAL ESTATE</td>\n",
       "      <td>353</td>\n",
       "      <td>111521</td>\n",
       "      <td>6</td>\n",
       "      <td>0.24</td>\n",
       "      <td>NaN</td>\n",
       "      <td>1</td>\n",
       "      <td>0.25</td>\n",
       "      <td>2006-04-18</td>\n",
       "      <td>REAL ESTATE</td>\n",
       "      <td>2006</td>\n",
       "      <td>4</td>\n",
       "      <td>0.01</td>\n",
       "    </tr>\n",
       "    <tr>\n",
       "      <th>35116</th>\n",
       "      <td>WRE</td>\n",
       "      <td>WASH REAL ESTATE</td>\n",
       "      <td>353</td>\n",
       "      <td>110697</td>\n",
       "      <td>7</td>\n",
       "      <td>0.25</td>\n",
       "      <td>NaN</td>\n",
       "      <td>1</td>\n",
       "      <td>0.25</td>\n",
       "      <td>2006-04-18</td>\n",
       "      <td>REAL ESTATE</td>\n",
       "      <td>2006</td>\n",
       "      <td>4</td>\n",
       "      <td>0.00</td>\n",
       "    </tr>\n",
       "    <tr>\n",
       "      <th>35117</th>\n",
       "      <td>WRE</td>\n",
       "      <td>WASH REAL ESTATE</td>\n",
       "      <td>353</td>\n",
       "      <td>111521</td>\n",
       "      <td>7</td>\n",
       "      <td>0.25</td>\n",
       "      <td>NaN</td>\n",
       "      <td>1</td>\n",
       "      <td>0.18</td>\n",
       "      <td>2006-07-19</td>\n",
       "      <td>REAL ESTATE</td>\n",
       "      <td>2006</td>\n",
       "      <td>7</td>\n",
       "      <td>-0.07</td>\n",
       "    </tr>\n",
       "  </tbody>\n",
       "</table>\n",
       "</div>"
      ],
      "text/plain": [
       "      TICKER             CNAME  ESTIMATOR  ANALYS FPI  VALUE CURR  USFIRM  \\\n",
       "35113    WRE  WASH REAL ESTATE        353  110697   1   1.83  NaN       1   \n",
       "35114    WRE  WASH REAL ESTATE        353  110697   6   0.26  NaN       1   \n",
       "35115    WRE  WASH REAL ESTATE        353  111521   6   0.24  NaN       1   \n",
       "35116    WRE  WASH REAL ESTATE        353  110697   7   0.25  NaN       1   \n",
       "35117    WRE  WASH REAL ESTATE        353  111521   7   0.25  NaN       1   \n",
       "\n",
       "       ACTUAL ANNDATS_ACT        CTYPE  year  month  ERROR  \n",
       "35113    0.96  2006-02-16  REAL ESTATE  2006      2  -0.87  \n",
       "35114    0.26  2006-02-16  REAL ESTATE  2006      2   0.00  \n",
       "35115    0.25  2006-04-18  REAL ESTATE  2006      4   0.01  \n",
       "35116    0.25  2006-04-18  REAL ESTATE  2006      4   0.00  \n",
       "35117    0.18  2006-07-19  REAL ESTATE  2006      7  -0.07  "
      ]
     },
     "execution_count": 167,
     "metadata": {},
     "output_type": "execute_result"
    }
   ],
   "source": [
    "df_cleanRealestate = df_clean.query('CTYPE==\"REAL ESTATE\"')\n",
    "df_cleanRealestate['ERROR'] = df_cleanRealestate['ACTUAL'] - df_cleanRealestate['VALUE']\n",
    "df_cleanRealestate.head()"
   ]
  },
  {
   "cell_type": "code",
   "execution_count": 169,
   "metadata": {},
   "outputs": [
    {
     "data": {
      "text/plain": [
       "470"
      ]
     },
     "execution_count": 169,
     "metadata": {},
     "output_type": "execute_result"
    }
   ],
   "source": [
    "df_cleanRealestate.shape[0]"
   ]
  },
  {
   "cell_type": "code",
   "execution_count": 170,
   "metadata": {},
   "outputs": [
    {
     "data": {
      "text/plain": [
       "REIT           17868\n",
       "REAL ESTATE      470\n",
       "Name: CTYPE, dtype: int64"
      ]
     },
     "execution_count": 170,
     "metadata": {},
     "output_type": "execute_result"
    }
   ],
   "source": [
    "df_clean.CTYPE.value_counts()"
   ]
  },
  {
   "cell_type": "markdown",
   "metadata": {},
   "source": [
    "#### SUMMARY STATISTICS FOR REAL ESTATE"
   ]
  },
  {
   "cell_type": "code",
   "execution_count": 172,
   "metadata": {},
   "outputs": [
    {
     "data": {
      "text/html": [
       "<div>\n",
       "<style scoped>\n",
       "    .dataframe tbody tr th:only-of-type {\n",
       "        vertical-align: middle;\n",
       "    }\n",
       "\n",
       "    .dataframe tbody tr th {\n",
       "        vertical-align: top;\n",
       "    }\n",
       "\n",
       "    .dataframe thead th {\n",
       "        text-align: right;\n",
       "    }\n",
       "</style>\n",
       "<table border=\"1\" class=\"dataframe\">\n",
       "  <thead>\n",
       "    <tr style=\"text-align: right;\">\n",
       "      <th></th>\n",
       "      <th>ESTIMATOR</th>\n",
       "      <th>ANALYS</th>\n",
       "      <th>VALUE</th>\n",
       "      <th>USFIRM</th>\n",
       "      <th>ACTUAL</th>\n",
       "      <th>year</th>\n",
       "      <th>month</th>\n",
       "      <th>ERROR</th>\n",
       "    </tr>\n",
       "  </thead>\n",
       "  <tbody>\n",
       "    <tr>\n",
       "      <th>count</th>\n",
       "      <td>470.00000</td>\n",
       "      <td>470.000000</td>\n",
       "      <td>470.000000</td>\n",
       "      <td>470.000000</td>\n",
       "      <td>470.000000</td>\n",
       "      <td>470.000000</td>\n",
       "      <td>470.000000</td>\n",
       "      <td>470.000000</td>\n",
       "    </tr>\n",
       "    <tr>\n",
       "      <th>mean</th>\n",
       "      <td>1249.46383</td>\n",
       "      <td>96115.021277</td>\n",
       "      <td>0.332352</td>\n",
       "      <td>0.665957</td>\n",
       "      <td>0.495945</td>\n",
       "      <td>2012.044681</td>\n",
       "      <td>3.557447</td>\n",
       "      <td>0.163593</td>\n",
       "    </tr>\n",
       "    <tr>\n",
       "      <th>std</th>\n",
       "      <td>865.54873</td>\n",
       "      <td>21047.528099</td>\n",
       "      <td>0.340311</td>\n",
       "      <td>0.472157</td>\n",
       "      <td>0.776809</td>\n",
       "      <td>5.030835</td>\n",
       "      <td>2.698001</td>\n",
       "      <td>0.722241</td>\n",
       "    </tr>\n",
       "    <tr>\n",
       "      <th>min</th>\n",
       "      <td>98.00000</td>\n",
       "      <td>72986.000000</td>\n",
       "      <td>-0.440000</td>\n",
       "      <td>0.000000</td>\n",
       "      <td>-0.330000</td>\n",
       "      <td>2005.000000</td>\n",
       "      <td>2.000000</td>\n",
       "      <td>-0.870000</td>\n",
       "    </tr>\n",
       "    <tr>\n",
       "      <th>25%</th>\n",
       "      <td>557.00000</td>\n",
       "      <td>72986.000000</td>\n",
       "      <td>0.102275</td>\n",
       "      <td>0.000000</td>\n",
       "      <td>0.120000</td>\n",
       "      <td>2008.000000</td>\n",
       "      <td>2.000000</td>\n",
       "      <td>-0.064275</td>\n",
       "    </tr>\n",
       "    <tr>\n",
       "      <th>50%</th>\n",
       "      <td>873.00000</td>\n",
       "      <td>92213.000000</td>\n",
       "      <td>0.310000</td>\n",
       "      <td>1.000000</td>\n",
       "      <td>0.360000</td>\n",
       "      <td>2010.000000</td>\n",
       "      <td>2.000000</td>\n",
       "      <td>0.009100</td>\n",
       "    </tr>\n",
       "    <tr>\n",
       "      <th>75%</th>\n",
       "      <td>1928.00000</td>\n",
       "      <td>112821.000000</td>\n",
       "      <td>0.470225</td>\n",
       "      <td>1.000000</td>\n",
       "      <td>0.581800</td>\n",
       "      <td>2017.000000</td>\n",
       "      <td>3.000000</td>\n",
       "      <td>0.116150</td>\n",
       "    </tr>\n",
       "    <tr>\n",
       "      <th>max</th>\n",
       "      <td>3472.00000</td>\n",
       "      <td>138042.000000</td>\n",
       "      <td>4.040000</td>\n",
       "      <td>1.000000</td>\n",
       "      <td>4.750000</td>\n",
       "      <td>2022.000000</td>\n",
       "      <td>11.000000</td>\n",
       "      <td>4.690000</td>\n",
       "    </tr>\n",
       "  </tbody>\n",
       "</table>\n",
       "</div>"
      ],
      "text/plain": [
       "        ESTIMATOR         ANALYS       VALUE      USFIRM      ACTUAL  \\\n",
       "count   470.00000     470.000000  470.000000  470.000000  470.000000   \n",
       "mean   1249.46383   96115.021277    0.332352    0.665957    0.495945   \n",
       "std     865.54873   21047.528099    0.340311    0.472157    0.776809   \n",
       "min      98.00000   72986.000000   -0.440000    0.000000   -0.330000   \n",
       "25%     557.00000   72986.000000    0.102275    0.000000    0.120000   \n",
       "50%     873.00000   92213.000000    0.310000    1.000000    0.360000   \n",
       "75%    1928.00000  112821.000000    0.470225    1.000000    0.581800   \n",
       "max    3472.00000  138042.000000    4.040000    1.000000    4.750000   \n",
       "\n",
       "              year       month       ERROR  \n",
       "count   470.000000  470.000000  470.000000  \n",
       "mean   2012.044681    3.557447    0.163593  \n",
       "std       5.030835    2.698001    0.722241  \n",
       "min    2005.000000    2.000000   -0.870000  \n",
       "25%    2008.000000    2.000000   -0.064275  \n",
       "50%    2010.000000    2.000000    0.009100  \n",
       "75%    2017.000000    3.000000    0.116150  \n",
       "max    2022.000000   11.000000    4.690000  "
      ]
     },
     "execution_count": 172,
     "metadata": {},
     "output_type": "execute_result"
    }
   ],
   "source": [
    "df_cleanRealestate.describe()"
   ]
  },
  {
   "cell_type": "markdown",
   "metadata": {},
   "source": [
    "#### Distribution of REITs against Real Estate Companies"
   ]
  },
  {
   "cell_type": "code",
   "execution_count": 173,
   "metadata": {},
   "outputs": [
    {
     "data": {
      "text/plain": [
       "<AxesSubplot:ylabel='CTYPE'>"
      ]
     },
     "execution_count": 173,
     "metadata": {},
     "output_type": "execute_result"
    },
    {
     "data": {
      "image/png": "[encoded data removed]",
      "text/plain": [
       "<Figure size 432x288 with 1 Axes>"
      ]
     },
     "metadata": {},
     "output_type": "display_data"
    }
   ],
   "source": [
    "df_clean.CTYPE.value_counts().plot(kind='pie', labels=['REITs','Real Estate'],autopct='%1.1f%%')"
   ]
  },
  {
   "cell_type": "markdown",
   "metadata": {},
   "source": [
    "#### Signed Forecast Error for Real Estate Companies is 0.16359 "
   ]
  },
  {
   "cell_type": "code",
   "execution_count": 174,
   "metadata": {},
   "outputs": [
    {
     "data": {
      "text/plain": [
       "0.16359319148936172"
      ]
     },
     "execution_count": 174,
     "metadata": {},
     "output_type": "execute_result"
    }
   ],
   "source": [
    "#Signed Frecast Error\n",
    "df_cleanRealestate['ERROR'].sum()/df_cleanRealestate['ERROR'].shape[0]"
   ]
  },
  {
   "cell_type": "markdown",
   "metadata": {},
   "source": [
    "#### Signed Forecast Dispersion for Real Estate Companies is 1.0239"
   ]
  },
  {
   "cell_type": "code",
   "execution_count": 175,
   "metadata": {},
   "outputs": [
    {
     "data": {
      "text/plain": [
       "1.0239460804370997"
      ]
     },
     "execution_count": 175,
     "metadata": {},
     "output_type": "execute_result"
    }
   ],
   "source": [
    "#Forecast Dispersion\n",
    "df_cleanRealestate['VALUE'].std()/abs(df_cleanRealestate['VALUE'].mean())"
   ]
  },
  {
   "cell_type": "markdown",
   "metadata": {},
   "source": [
    "\n",
    "### DRAWBACK OF ANALYSIS\n",
    "1) Data might not be reflective of real events and therefore, relevant detailed statistics might be inaccurate\n",
    "\n",
    "2) During Data gathering from WRDS, Out of the 90000 rows of data extracted. There was almost 20,000 missing values for ACTUALS\n",
    "\n",
    "3) The REITs and Real Estate companies were extracted individually with an obvious imbalance in size as Real Estate companies    were twice the size of REITs comapanies(duplicates present).\n",
    "\n",
    "4) When merging Real Estate and REITs data to the master data(Eps data). There were a lot of missing values for ACTUALs(70,000) leaving us with about 20,000 ACTUALS for Analysis\n",
    "\n",
    "5) Upon Combinding the Company Types, some comapnies could not be classified.\n",
    "\n",
    "6) Methodology reflects real world scenarios\n",
    "\n",
    "\n",
    "### FUTURE WORKS\n",
    "1) Extensive Data gathering and cleaning is highly recommended as WRDS data proves insufficient. Merging with another database is highly advised"
   ]
  },
  {
   "cell_type": "code",
   "execution_count": null,
   "metadata": {},
   "outputs": [],
   "source": []
  }
 ],
 "metadata": {
  "kernelspec": {
   "display_name": "Python 3",
   "language": "python",
   "name": "python3"
  },
  "language_info": {
   "codemirror_mode": {
    "name": "ipython",
    "version": 3
   },
   "file_extension": ".py",
   "mimetype": "text/x-python",
   "name": "python",
   "nbconvert_exporter": "python",
   "pygments_lexer": "ipython3",
   "version": "3.8.5"
  }
 },
 "nbformat": 4,
 "nbformat_minor": 4
}
